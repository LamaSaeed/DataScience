{
 "cells": [
  {
   "cell_type": "markdown",
   "id": "154e75ed",
   "metadata": {},
   "source": [
    " ## Nlp iPhoneSE Reviwes: \n",
    "    \n",
    "    - look at the data\n",
    "    - cleaning \n",
    "    - visualize \n",
    "    - nlp cleaning \n",
    "    - spacy\n",
    "    - sentment analysis\n",
    "    - topic modeling\n",
    "    - recommendation engine\n",
    "    - clustering "
   ]
  },
  {
   "cell_type": "code",
   "execution_count": 65,
   "id": "933b9681",
   "metadata": {},
   "outputs": [
    {
     "name": "stdout",
     "output_type": "stream",
     "text": [
      "Collecting TokenizerNote: you may need to restart the kernel to use updated packages.\n",
      "\n",
      "  Downloading tokenizer-3.3.2-py2.py3-none-any.whl (77 kB)\n",
      "Installing collected packages: Tokenizer\n",
      "Successfully installed Tokenizer-3.3.2\n"
     ]
    }
   ],
   "source": [
    "pip install Tokenizer"
   ]
  },
  {
   "cell_type": "code",
   "execution_count": null,
   "id": "5b73eb58",
   "metadata": {},
   "outputs": [
    {
     "name": "stdout",
     "output_type": "stream",
     "text": [
      "showing info https://raw.githubusercontent.com/nltk/nltk_data/gh-pages/index.xml\n"
     ]
    }
   ],
   "source": [
    " nltk.download()"
   ]
  },
  {
   "cell_type": "markdown",
   "id": "2b84aa95",
   "metadata": {},
   "source": [
    "________"
   ]
  },
  {
   "cell_type": "code",
   "execution_count": 3,
   "id": "2135d8c6",
   "metadata": {},
   "outputs": [],
   "source": [
    "import nltk\n",
    "import pandas as pd\n",
    "import matplotlib.pyplot as plt\n",
    "import seaborn as sns\n",
    "import statistics\n",
    "from wordcloud import WordCloud\n",
    "from nltk.corpus import stopwords\n",
    "\n",
    "from sklearn.model_selection import train_test_split\n",
    "from sklearn.linear_model import LinearRegression\n",
    "import warnings\n",
    "\n",
    "import re\n",
    "import nltk\n",
    "from nltk.corpus import stopwords\n",
    "from sklearn.model_selection import train_test_split\n",
    "import seaborn as sns\n",
    "from wordcloud import WordCloud\n",
    "import matplotlib.pyplot as plt\n",
    "from sklearn.ensemble import RandomForestClassifier\n",
    "\n",
    "import neattext.functions as nf\n",
    "\n",
    "pd.set_option('display.max_colwidth', 10000)"
   ]
  },
  {
   "cell_type": "code",
   "execution_count": 3,
   "id": "40bc99b6",
   "metadata": {},
   "outputs": [
    {
     "data": {
      "text/html": [
       "<div>\n",
       "<style scoped>\n",
       "    .dataframe tbody tr th:only-of-type {\n",
       "        vertical-align: middle;\n",
       "    }\n",
       "\n",
       "    .dataframe tbody tr th {\n",
       "        vertical-align: top;\n",
       "    }\n",
       "\n",
       "    .dataframe thead th {\n",
       "        text-align: right;\n",
       "    }\n",
       "</style>\n",
       "<table border=\"1\" class=\"dataframe\">\n",
       "  <thead>\n",
       "    <tr style=\"text-align: right;\">\n",
       "      <th></th>\n",
       "      <th>Ratings</th>\n",
       "      <th>Comment</th>\n",
       "      <th>Reviews</th>\n",
       "    </tr>\n",
       "  </thead>\n",
       "  <tbody>\n",
       "    <tr>\n",
       "      <th>0</th>\n",
       "      <td>5</td>\n",
       "      <td>Super!</td>\n",
       "      <td>Great camera for pics and videos Battery life ...</td>\n",
       "    </tr>\n",
       "    <tr>\n",
       "      <th>1</th>\n",
       "      <td>5</td>\n",
       "      <td>Must buy!</td>\n",
       "      <td>Great device. Let me tell the Pros..1. Superb ...</td>\n",
       "    </tr>\n",
       "    <tr>\n",
       "      <th>2</th>\n",
       "      <td>5</td>\n",
       "      <td>Great product</td>\n",
       "      <td>Who all loves older size i.e., 4.7 inch type s...</td>\n",
       "    </tr>\n",
       "    <tr>\n",
       "      <th>3</th>\n",
       "      <td>5</td>\n",
       "      <td>Simply awesome</td>\n",
       "      <td>This iPhone SE is the best phone ever you get....</td>\n",
       "    </tr>\n",
       "    <tr>\n",
       "      <th>4</th>\n",
       "      <td>5</td>\n",
       "      <td>Classy product</td>\n",
       "      <td>This is my second iphone after iphone 4s. I’ve...</td>\n",
       "    </tr>\n",
       "  </tbody>\n",
       "</table>\n",
       "</div>"
      ],
      "text/plain": [
       "   Ratings         Comment                                            Reviews\n",
       "0        5          Super!  Great camera for pics and videos Battery life ...\n",
       "1        5       Must buy!  Great device. Let me tell the Pros..1. Superb ...\n",
       "2        5   Great product  Who all loves older size i.e., 4.7 inch type s...\n",
       "3        5  Simply awesome  This iPhone SE is the best phone ever you get....\n",
       "4        5  Classy product  This is my second iphone after iphone 4s. I’ve..."
      ]
     },
     "execution_count": 3,
     "metadata": {},
     "output_type": "execute_result"
    }
   ],
   "source": [
    "df = pd.read_csv('APPLE_iPhone_SE.csv')\n",
    "df.head()"
   ]
  },
  {
   "cell_type": "code",
   "execution_count": 4,
   "id": "8ec78a8b",
   "metadata": {},
   "outputs": [
    {
     "name": "stdout",
     "output_type": "stream",
     "text": [
      "<class 'pandas.core.frame.DataFrame'>\n",
      "RangeIndex: 9713 entries, 0 to 9712\n",
      "Data columns (total 3 columns):\n",
      " #   Column   Non-Null Count  Dtype \n",
      "---  ------   --------------  ----- \n",
      " 0   Ratings  9713 non-null   int64 \n",
      " 1   Comment  9713 non-null   object\n",
      " 2   Reviews  9713 non-null   object\n",
      "dtypes: int64(1), object(2)\n",
      "memory usage: 227.8+ KB\n"
     ]
    }
   ],
   "source": [
    "df.info()"
   ]
  },
  {
   "cell_type": "code",
   "execution_count": 5,
   "id": "876e7015",
   "metadata": {},
   "outputs": [
    {
     "data": {
      "text/plain": [
       "9713"
      ]
     },
     "execution_count": 5,
     "metadata": {},
     "output_type": "execute_result"
    }
   ],
   "source": [
    "len(df)"
   ]
  },
  {
   "cell_type": "code",
   "execution_count": 6,
   "id": "35ade2c7",
   "metadata": {},
   "outputs": [
    {
     "data": {
      "text/plain": [
       "(9713, 3)"
      ]
     },
     "execution_count": 6,
     "metadata": {},
     "output_type": "execute_result"
    }
   ],
   "source": [
    "df.shape"
   ]
  },
  {
   "cell_type": "code",
   "execution_count": 7,
   "id": "d74cd586",
   "metadata": {},
   "outputs": [
    {
     "data": {
      "text/plain": [
       "649"
      ]
     },
     "execution_count": 7,
     "metadata": {},
     "output_type": "execute_result"
    }
   ],
   "source": [
    "df.duplicated().sum()"
   ]
  },
  {
   "cell_type": "code",
   "execution_count": 8,
   "id": "0c0409ce",
   "metadata": {},
   "outputs": [
    {
     "data": {
      "text/html": [
       "<div>\n",
       "<style scoped>\n",
       "    .dataframe tbody tr th:only-of-type {\n",
       "        vertical-align: middle;\n",
       "    }\n",
       "\n",
       "    .dataframe tbody tr th {\n",
       "        vertical-align: top;\n",
       "    }\n",
       "\n",
       "    .dataframe thead th {\n",
       "        text-align: right;\n",
       "    }\n",
       "</style>\n",
       "<table border=\"1\" class=\"dataframe\">\n",
       "  <thead>\n",
       "    <tr style=\"text-align: right;\">\n",
       "      <th></th>\n",
       "      <th>Ratings</th>\n",
       "      <th>Comment</th>\n",
       "      <th>Reviews</th>\n",
       "    </tr>\n",
       "  </thead>\n",
       "  <tbody>\n",
       "    <tr>\n",
       "      <th>0</th>\n",
       "      <td>5</td>\n",
       "      <td>Super!</td>\n",
       "      <td>Great camera for pics and videos Battery life ...</td>\n",
       "    </tr>\n",
       "    <tr>\n",
       "      <th>1</th>\n",
       "      <td>5</td>\n",
       "      <td>Must buy!</td>\n",
       "      <td>Great device. Let me tell the Pros..1. Superb ...</td>\n",
       "    </tr>\n",
       "    <tr>\n",
       "      <th>2</th>\n",
       "      <td>5</td>\n",
       "      <td>Great product</td>\n",
       "      <td>Who all loves older size i.e., 4.7 inch type s...</td>\n",
       "    </tr>\n",
       "    <tr>\n",
       "      <th>3</th>\n",
       "      <td>5</td>\n",
       "      <td>Simply awesome</td>\n",
       "      <td>This iPhone SE is the best phone ever you get....</td>\n",
       "    </tr>\n",
       "    <tr>\n",
       "      <th>4</th>\n",
       "      <td>5</td>\n",
       "      <td>Classy product</td>\n",
       "      <td>This is my second iphone after iphone 4s. I’ve...</td>\n",
       "    </tr>\n",
       "    <tr>\n",
       "      <th>...</th>\n",
       "      <td>...</td>\n",
       "      <td>...</td>\n",
       "      <td>...</td>\n",
       "    </tr>\n",
       "    <tr>\n",
       "      <th>9708</th>\n",
       "      <td>5</td>\n",
       "      <td>Terrific purchase</td>\n",
       "      <td>Absolutely brilliantREAD MORE</td>\n",
       "    </tr>\n",
       "    <tr>\n",
       "      <th>9709</th>\n",
       "      <td>5</td>\n",
       "      <td>Classy product</td>\n",
       "      <td>Superb phone. This is my 4th iPhone, I feel SE...</td>\n",
       "    </tr>\n",
       "    <tr>\n",
       "      <th>9710</th>\n",
       "      <td>5</td>\n",
       "      <td>Awesome</td>\n",
       "      <td>very niceREAD MORE</td>\n",
       "    </tr>\n",
       "    <tr>\n",
       "      <th>9711</th>\n",
       "      <td>5</td>\n",
       "      <td>Super!</td>\n",
       "      <td>Loving it as of now. Good Product .READ MORE</td>\n",
       "    </tr>\n",
       "    <tr>\n",
       "      <th>9712</th>\n",
       "      <td>5</td>\n",
       "      <td>Terrific purchase</td>\n",
       "      <td>NiceElegant ElectricREAD MORE</td>\n",
       "    </tr>\n",
       "  </tbody>\n",
       "</table>\n",
       "<p>9064 rows × 3 columns</p>\n",
       "</div>"
      ],
      "text/plain": [
       "      Ratings            Comment  \\\n",
       "0           5             Super!   \n",
       "1           5          Must buy!   \n",
       "2           5      Great product   \n",
       "3           5     Simply awesome   \n",
       "4           5     Classy product   \n",
       "...       ...                ...   \n",
       "9708        5  Terrific purchase   \n",
       "9709        5     Classy product   \n",
       "9710        5            Awesome   \n",
       "9711        5             Super!   \n",
       "9712        5  Terrific purchase   \n",
       "\n",
       "                                                Reviews  \n",
       "0     Great camera for pics and videos Battery life ...  \n",
       "1     Great device. Let me tell the Pros..1. Superb ...  \n",
       "2     Who all loves older size i.e., 4.7 inch type s...  \n",
       "3     This iPhone SE is the best phone ever you get....  \n",
       "4     This is my second iphone after iphone 4s. I’ve...  \n",
       "...                                                 ...  \n",
       "9708                      Absolutely brilliantREAD MORE  \n",
       "9709  Superb phone. This is my 4th iPhone, I feel SE...  \n",
       "9710                                 very niceREAD MORE  \n",
       "9711       Loving it as of now. Good Product .READ MORE  \n",
       "9712                      NiceElegant ElectricREAD MORE  \n",
       "\n",
       "[9064 rows x 3 columns]"
      ]
     },
     "execution_count": 8,
     "metadata": {},
     "output_type": "execute_result"
    }
   ],
   "source": [
    "df.drop_duplicates(inplace=True)\n",
    "df"
   ]
  },
  {
   "cell_type": "code",
   "execution_count": 9,
   "id": "9502f1dd",
   "metadata": {},
   "outputs": [
    {
     "data": {
      "text/plain": [
       "Ratings    0\n",
       "Comment    0\n",
       "Reviews    0\n",
       "dtype: int64"
      ]
     },
     "execution_count": 9,
     "metadata": {},
     "output_type": "execute_result"
    }
   ],
   "source": [
    "df.isna().sum()"
   ]
  },
  {
   "cell_type": "code",
   "execution_count": 10,
   "id": "79de82bc",
   "metadata": {
    "scrolled": true
   },
   "outputs": [
    {
     "name": "stderr",
     "output_type": "stream",
     "text": [
      "C:\\Users\\lamz\\anaconda3\\lib\\site-packages\\seaborn\\_decorators.py:36: FutureWarning: Pass the following variable as a keyword arg: x. From version 0.12, the only valid positional argument will be `data`, and passing other arguments without an explicit keyword will result in an error or misinterpretation.\n",
      "  warnings.warn(\n"
     ]
    },
    {
     "data": {
      "text/plain": [
       "<AxesSubplot:xlabel='Ratings', ylabel='count'>"
      ]
     },
     "execution_count": 10,
     "metadata": {},
     "output_type": "execute_result"
    },
    {
     "data": {
      "image/png": "[encoded data removed]",
      "text/plain": [
       "<Figure size 432x288 with 1 Axes>"
      ]
     },
     "metadata": {
      "needs_background": "light"
     },
     "output_type": "display_data"
    }
   ],
   "source": [
    "sns.countplot(df[\"Ratings\"])"
   ]
  },
  {
   "cell_type": "markdown",
   "id": "f526d0c3",
   "metadata": {},
   "source": [
    " - convert lower\n",
    " - english stop words \n",
    " - panctuations"
   ]
  },
  {
   "cell_type": "code",
   "execution_count": 11,
   "id": "2a0314f0",
   "metadata": {},
   "outputs": [
    {
     "data": {
      "text/plain": [
       "0    Great camera for pics and videos Battery life ...\n",
       "Name: Reviews, dtype: object"
      ]
     },
     "execution_count": 11,
     "metadata": {},
     "output_type": "execute_result"
    }
   ],
   "source": [
    "df['Reviews'].head(1)"
   ]
  },
  {
   "cell_type": "code",
   "execution_count": 12,
   "id": "966ee2f3",
   "metadata": {},
   "outputs": [
    {
     "data": {
      "text/html": [
       "<div>\n",
       "<style scoped>\n",
       "    .dataframe tbody tr th:only-of-type {\n",
       "        vertical-align: middle;\n",
       "    }\n",
       "\n",
       "    .dataframe tbody tr th {\n",
       "        vertical-align: top;\n",
       "    }\n",
       "\n",
       "    .dataframe thead th {\n",
       "        text-align: right;\n",
       "    }\n",
       "</style>\n",
       "<table border=\"1\" class=\"dataframe\">\n",
       "  <thead>\n",
       "    <tr style=\"text-align: right;\">\n",
       "      <th></th>\n",
       "      <th>Ratings</th>\n",
       "      <th>Comment</th>\n",
       "      <th>Reviews</th>\n",
       "    </tr>\n",
       "  </thead>\n",
       "  <tbody>\n",
       "    <tr>\n",
       "      <th>0</th>\n",
       "      <td>5</td>\n",
       "      <td>Super!</td>\n",
       "      <td>great camera for pics and videos battery life ...</td>\n",
       "    </tr>\n",
       "    <tr>\n",
       "      <th>1</th>\n",
       "      <td>5</td>\n",
       "      <td>Must buy!</td>\n",
       "      <td>great device  let me tell the pros     superb ...</td>\n",
       "    </tr>\n",
       "    <tr>\n",
       "      <th>2</th>\n",
       "      <td>5</td>\n",
       "      <td>Great product</td>\n",
       "      <td>who all loves older size i e       inch type s...</td>\n",
       "    </tr>\n",
       "    <tr>\n",
       "      <th>3</th>\n",
       "      <td>5</td>\n",
       "      <td>Simply awesome</td>\n",
       "      <td>this iphone se is the best phone ever you get ...</td>\n",
       "    </tr>\n",
       "    <tr>\n",
       "      <th>4</th>\n",
       "      <td>5</td>\n",
       "      <td>Classy product</td>\n",
       "      <td>this is my second iphone after iphone    i’ve ...</td>\n",
       "    </tr>\n",
       "  </tbody>\n",
       "</table>\n",
       "</div>"
      ],
      "text/plain": [
       "   Ratings         Comment                                            Reviews\n",
       "0        5          Super!  great camera for pics and videos battery life ...\n",
       "1        5       Must buy!  great device  let me tell the pros     superb ...\n",
       "2        5   Great product  who all loves older size i e       inch type s...\n",
       "3        5  Simply awesome  this iphone se is the best phone ever you get ...\n",
       "4        5  Classy product  this is my second iphone after iphone    i’ve ..."
      ]
     },
     "execution_count": 12,
     "metadata": {},
     "output_type": "execute_result"
    }
   ],
   "source": [
    "import re\n",
    "import string\n",
    "\n",
    "\n",
    "alphanumeric = lambda x: re.sub('\\w*\\d\\w*', ' ', x)\n",
    "punc_lower = lambda x: re.sub('[%s]' % re.escape(string.punctuation), ' ', x.lower())\n",
    "\n",
    "df['Reviews'] = df.Reviews.map(alphanumeric).map(punc_lower)\n",
    "df.head()\n"
   ]
  },
  {
   "cell_type": "code",
   "execution_count": 15,
   "id": "d9560aef",
   "metadata": {},
   "outputs": [],
   "source": [
    "df['Reviews'] = df['Reviews'].apply(nf.clean_text)"
   ]
  },
  {
   "cell_type": "code",
   "execution_count": 16,
   "id": "f64932ed",
   "metadata": {},
   "outputs": [
    {
     "data": {
      "text/html": [
       "<div>\n",
       "<style scoped>\n",
       "    .dataframe tbody tr th:only-of-type {\n",
       "        vertical-align: middle;\n",
       "    }\n",
       "\n",
       "    .dataframe tbody tr th {\n",
       "        vertical-align: top;\n",
       "    }\n",
       "\n",
       "    .dataframe thead th {\n",
       "        text-align: right;\n",
       "    }\n",
       "</style>\n",
       "<table border=\"1\" class=\"dataframe\">\n",
       "  <thead>\n",
       "    <tr style=\"text-align: right;\">\n",
       "      <th></th>\n",
       "      <th>Ratings</th>\n",
       "      <th>Comment</th>\n",
       "      <th>Reviews</th>\n",
       "    </tr>\n",
       "  </thead>\n",
       "  <tbody>\n",
       "    <tr>\n",
       "      <th>4254</th>\n",
       "      <td>4</td>\n",
       "      <td>Delightful</td>\n",
       "      <td>gudread</td>\n",
       "    </tr>\n",
       "    <tr>\n",
       "      <th>5248</th>\n",
       "      <td>5</td>\n",
       "      <td>Terrific</td>\n",
       "      <td>best value phone price bracket non inclusion n...</td>\n",
       "    </tr>\n",
       "    <tr>\n",
       "      <th>6119</th>\n",
       "      <td>5</td>\n",
       "      <td>Terrific purchase</td>\n",
       "      <td>apple phone iphone share best experience mobil...</td>\n",
       "    </tr>\n",
       "    <tr>\n",
       "      <th>4327</th>\n",
       "      <td>4</td>\n",
       "      <td>Really Nice</td>\n",
       "      <td>handy phone nice performance satisfied battery...</td>\n",
       "    </tr>\n",
       "    <tr>\n",
       "      <th>6174</th>\n",
       "      <td>5</td>\n",
       "      <td>Terrific purchase</td>\n",
       "      <td>beautifully crafted masterpiece worth penny sp...</td>\n",
       "    </tr>\n",
       "    <tr>\n",
       "      <th>1988</th>\n",
       "      <td>5</td>\n",
       "      <td>Excellent</td>\n",
       "      <td>perfect phone small easy use read</td>\n",
       "    </tr>\n",
       "    <tr>\n",
       "      <th>6205</th>\n",
       "      <td>4</td>\n",
       "      <td>Very Good</td>\n",
       "      <td>iphone new hardware read</td>\n",
       "    </tr>\n",
       "    <tr>\n",
       "      <th>7109</th>\n",
       "      <td>5</td>\n",
       "      <td>Worth every penny</td>\n",
       "      <td>iphone needs review comparison apple addicted ...</td>\n",
       "    </tr>\n",
       "    <tr>\n",
       "      <th>1585</th>\n",
       "      <td>5</td>\n",
       "      <td>Highly recommended</td>\n",
       "      <td>great product apple read</td>\n",
       "    </tr>\n",
       "    <tr>\n",
       "      <th>4764</th>\n",
       "      <td>4</td>\n",
       "      <td>Very Good</td>\n",
       "      <td>got model flipcart dussehra sale bought price ...</td>\n",
       "    </tr>\n",
       "    <tr>\n",
       "      <th>4898</th>\n",
       "      <td>3</td>\n",
       "      <td>Nice</td>\n",
       "      <td>camera superb issues face size battery bad read</td>\n",
       "    </tr>\n",
       "    <tr>\n",
       "      <th>5841</th>\n",
       "      <td>4</td>\n",
       "      <td>Good choice</td>\n",
       "      <td>good product apple better batteryread</td>\n",
       "    </tr>\n",
       "    <tr>\n",
       "      <th>4291</th>\n",
       "      <td>2</td>\n",
       "      <td>Bad quality</td>\n",
       "      <td>battery continuously draining charge phone twi...</td>\n",
       "    </tr>\n",
       "    <tr>\n",
       "      <th>614</th>\n",
       "      <td>4</td>\n",
       "      <td>Worth the money</td>\n",
       "      <td>iphone user iphone earlier motorola power redm...</td>\n",
       "    </tr>\n",
       "    <tr>\n",
       "      <th>7087</th>\n",
       "      <td>1</td>\n",
       "      <td>Absolute rubbish!</td>\n",
       "      <td>poorest choice purchase iphone se worst thing ...</td>\n",
       "    </tr>\n",
       "    <tr>\n",
       "      <th>6147</th>\n",
       "      <td>4</td>\n",
       "      <td>Good quality product</td>\n",
       "      <td>battery backup overall satisfied read</td>\n",
       "    </tr>\n",
       "    <tr>\n",
       "      <th>3294</th>\n",
       "      <td>5</td>\n",
       "      <td>Brilliant</td>\n",
       "      <td>nice phone lv seread</td>\n",
       "    </tr>\n",
       "    <tr>\n",
       "      <th>393</th>\n",
       "      <td>3</td>\n",
       "      <td>1 week user</td>\n",
       "      <td>product great battery iphone battery life pret...</td>\n",
       "    </tr>\n",
       "    <tr>\n",
       "      <th>3985</th>\n",
       "      <td>5</td>\n",
       "      <td>Terrific purchase</td>\n",
       "      <td>awesome read</td>\n",
       "    </tr>\n",
       "    <tr>\n",
       "      <th>4421</th>\n",
       "      <td>5</td>\n",
       "      <td>Just wow!</td>\n",
       "      <td>camera best deviceread</td>\n",
       "    </tr>\n",
       "  </tbody>\n",
       "</table>\n",
       "</div>"
      ],
      "text/plain": [
       "      Ratings               Comment  \\\n",
       "4254        4            Delightful   \n",
       "5248        5              Terrific   \n",
       "6119        5     Terrific purchase   \n",
       "4327        4           Really Nice   \n",
       "6174        5     Terrific purchase   \n",
       "1988        5             Excellent   \n",
       "6205        4             Very Good   \n",
       "7109        5     Worth every penny   \n",
       "1585        5    Highly recommended   \n",
       "4764        4             Very Good   \n",
       "4898        3                  Nice   \n",
       "5841        4           Good choice   \n",
       "4291        2           Bad quality   \n",
       "614         4       Worth the money   \n",
       "7087        1     Absolute rubbish!   \n",
       "6147        4  Good quality product   \n",
       "3294        5             Brilliant   \n",
       "393         3           1 week user   \n",
       "3985        5     Terrific purchase   \n",
       "4421        5             Just wow!   \n",
       "\n",
       "                                                Reviews  \n",
       "4254                                            gudread  \n",
       "5248  best value phone price bracket non inclusion n...  \n",
       "6119  apple phone iphone share best experience mobil...  \n",
       "4327  handy phone nice performance satisfied battery...  \n",
       "6174  beautifully crafted masterpiece worth penny sp...  \n",
       "1988                  perfect phone small easy use read  \n",
       "6205                           iphone new hardware read  \n",
       "7109  iphone needs review comparison apple addicted ...  \n",
       "1585                           great product apple read  \n",
       "4764  got model flipcart dussehra sale bought price ...  \n",
       "4898    camera superb issues face size battery bad read  \n",
       "5841              good product apple better batteryread  \n",
       "4291  battery continuously draining charge phone twi...  \n",
       "614   iphone user iphone earlier motorola power redm...  \n",
       "7087  poorest choice purchase iphone se worst thing ...  \n",
       "6147              battery backup overall satisfied read  \n",
       "3294                               nice phone lv seread  \n",
       "393   product great battery iphone battery life pret...  \n",
       "3985                                       awesome read  \n",
       "4421                             camera best deviceread  "
      ]
     },
     "execution_count": 16,
     "metadata": {},
     "output_type": "execute_result"
    }
   ],
   "source": [
    "df.sample(20)"
   ]
  },
  {
   "cell_type": "code",
   "execution_count": 17,
   "id": "f30e627c",
   "metadata": {},
   "outputs": [
    {
     "data": {
      "text/plain": [
       "'great camera pics videos battery life good far setting turn use use turn use power saving mode time day light gaming camera listening music car youtube bluetooth couple hours gives day battery varing hours sot dayperformance notch plays game task easevery premium phone look read'"
      ]
     },
     "execution_count": 17,
     "metadata": {},
     "output_type": "execute_result"
    }
   ],
   "source": [
    "df.Reviews[0]"
   ]
  },
  {
   "cell_type": "code",
   "execution_count": 18,
   "id": "73138a91",
   "metadata": {},
   "outputs": [
    {
     "data": {
      "text/plain": [
       "0    great camera pics videos battery life good far setting turn use use turn use power saving mode time day light gaming camera listening music car youtube bluetooth couple hours gives day battery varing hours sot dayperformance notch plays game task easevery premium phone look read\n",
       "Name: Reviews, dtype: object"
      ]
     },
     "execution_count": 18,
     "metadata": {},
     "output_type": "execute_result"
    }
   ],
   "source": [
    "# pd.set_option(\"max_columns\", None)\n",
    "pd.set_option('max_colwidth', None)\n",
    "df['Reviews'].head(1)"
   ]
  },
  {
   "cell_type": "code",
   "execution_count": 19,
   "id": "0692769c",
   "metadata": {},
   "outputs": [],
   "source": [
    "import neattext.functions as nf"
   ]
  },
  {
   "cell_type": "code",
   "execution_count": 20,
   "id": "4731db73",
   "metadata": {},
   "outputs": [
    {
     "data": {
      "text/plain": [
       "0                                      great camera pics videos battery life good far setting turn use use turn use power saving mode time day light gaming camera listening music car youtube bluetooth couple hours gives day battery varing hours sot dayperformance notch plays game task easevery premium phone look read\n",
       "1                                                                                                                great device let tell pros superb build quality great display camera great good lighting conditions processing great sound superb quality great red colour looks superb portrait mode photography superb read\n",
       "2                                                                                                                                                                                                                                                   loves older size e inch type definitely better xr xs best price usage read\n",
       "3                iphone se best phone beautifully designed gives classy look palms performance wise benchmark disappointed budget purchase point size looking wont disappointed strongly recommend phone people work oriented game loves skip phone game phone best features stunning looks performance battery life good read\n",
       "4       second iphone iphone ive long time android user ill tell phone prospective buyers photo video enthusiasts reliable camera fast excellent picture quality videos absolutely stable professional quality amazed people shoot youtube videos iphone downside display doesnt justice photos videos taken night photos read\n",
       "                                                                                                                                                                 ...                                                                                                                                                          \n",
       "9708                                                                                                                                                                                                                                                                                                  absolutely brilliantread\n",
       "9709                                                                                                                                                                                                                                                         superb phone iphone feel se thinnest pocket friendly product read\n",
       "9710                                                                                                                                                                                                                                                                                                                  niceread\n",
       "9711                                                                                                                                                                                                                                                                                                  loving good product read\n",
       "9712                                                                                                                                                                                                                                                                                                  niceelegant electricread\n",
       "Name: Reviews, Length: 9064, dtype: object"
      ]
     },
     "execution_count": 20,
     "metadata": {},
     "output_type": "execute_result"
    }
   ],
   "source": [
    "df['Reviews'] = df['Reviews'].apply(nf.remove_puncts)\n",
    "df['Reviews'] = df['Reviews'].apply(nf.remove_numbers)\n",
    "df['Reviews'] = df['Reviews'].apply(nf.remove_multiple_spaces)\n",
    "df['Reviews'] = df['Reviews'].apply(nf.remove_special_characters)\n",
    "df['Reviews'] = df['Reviews'].apply(nf.remove_stopwords)\n",
    "\n",
    "lower = lambda x : x.lower()\n",
    "df['Reviews'].map(lower)"
   ]
  },
  {
   "cell_type": "code",
   "execution_count": 21,
   "id": "a8293f27",
   "metadata": {},
   "outputs": [
    {
     "data": {
      "text/plain": [
       "0    great camera pics videos battery life good far setting turn use use turn use power saving mode time day light gaming camera listening music car youtube bluetooth couple hours gives day battery varing hours sot dayperformance notch plays game task easevery premium phone look read\n",
       "Name: Reviews, dtype: object"
      ]
     },
     "execution_count": 21,
     "metadata": {},
     "output_type": "execute_result"
    }
   ],
   "source": [
    "df['Reviews'].head(1)"
   ]
  },
  {
   "cell_type": "code",
   "execution_count": 43,
   "id": "d504f046",
   "metadata": {},
   "outputs": [],
   "source": [
    "def add_reviews(x):\n",
    "        if x['Ratings'] >= 3 : \n",
    "            text = 'Positive'\n",
    "\n",
    "        elif x['Ratings'] < 3 : \n",
    "            text = 'Negative'\n",
    "        return text\n",
    "\n",
    "df['sentiment'] = df.apply(add_reviews,axis=1)"
   ]
  },
  {
   "cell_type": "code",
   "execution_count": 44,
   "id": "a39649ee",
   "metadata": {},
   "outputs": [
    {
     "data": {
      "text/html": [
       "<div>\n",
       "<style scoped>\n",
       "    .dataframe tbody tr th:only-of-type {\n",
       "        vertical-align: middle;\n",
       "    }\n",
       "\n",
       "    .dataframe tbody tr th {\n",
       "        vertical-align: top;\n",
       "    }\n",
       "\n",
       "    .dataframe thead th {\n",
       "        text-align: right;\n",
       "    }\n",
       "</style>\n",
       "<table border=\"1\" class=\"dataframe\">\n",
       "  <thead>\n",
       "    <tr style=\"text-align: right;\">\n",
       "      <th></th>\n",
       "      <th>Ratings</th>\n",
       "      <th>Comment</th>\n",
       "      <th>Reviews</th>\n",
       "      <th>MyReviews</th>\n",
       "      <th>sentiment</th>\n",
       "    </tr>\n",
       "  </thead>\n",
       "  <tbody>\n",
       "    <tr>\n",
       "      <th>0</th>\n",
       "      <td>5</td>\n",
       "      <td>Super!</td>\n",
       "      <td>great camera pics videos battery life good far setting turn use use turn use power saving mode time day light gaming camera listening music car youtube bluetooth couple hours gives day battery varing hours sot dayperformance notch plays game task easevery premium phone look read</td>\n",
       "      <td>Positive</td>\n",
       "      <td>Positive</td>\n",
       "    </tr>\n",
       "    <tr>\n",
       "      <th>1</th>\n",
       "      <td>5</td>\n",
       "      <td>Must buy!</td>\n",
       "      <td>great device let tell pros superb build quality great display camera great good lighting conditions processing great sound superb quality great red colour looks superb portrait mode photography superb read</td>\n",
       "      <td>Positive</td>\n",
       "      <td>Positive</td>\n",
       "    </tr>\n",
       "    <tr>\n",
       "      <th>2</th>\n",
       "      <td>5</td>\n",
       "      <td>Great product</td>\n",
       "      <td>loves older size e inch type definitely better xr xs best price usage read</td>\n",
       "      <td>Positive</td>\n",
       "      <td>Positive</td>\n",
       "    </tr>\n",
       "    <tr>\n",
       "      <th>3</th>\n",
       "      <td>5</td>\n",
       "      <td>Simply awesome</td>\n",
       "      <td>iphone se best phone beautifully designed gives classy look palms performance wise benchmark disappointed budget purchase point size looking wont disappointed strongly recommend phone people work oriented game loves skip phone game phone best features stunning looks performance battery life good read</td>\n",
       "      <td>Positive</td>\n",
       "      <td>Positive</td>\n",
       "    </tr>\n",
       "    <tr>\n",
       "      <th>4</th>\n",
       "      <td>5</td>\n",
       "      <td>Classy product</td>\n",
       "      <td>second iphone iphone ive long time android user ill tell phone prospective buyers photo video enthusiasts reliable camera fast excellent picture quality videos absolutely stable professional quality amazed people shoot youtube videos iphone downside display doesnt justice photos videos taken night photos read</td>\n",
       "      <td>Positive</td>\n",
       "      <td>Positive</td>\n",
       "    </tr>\n",
       "    <tr>\n",
       "      <th>5</th>\n",
       "      <td>4</td>\n",
       "      <td>Love at First Home Touch</td>\n",
       "      <td>totally worth price ios fan like compact phone want switch android iphone like clicking good photos camera unbeatable multitask normal phones stuck apps going hiatus lag like listen music speakers watch movie music feels like dolby atmos lot technical advantages dont want yo read</td>\n",
       "      <td>Positive</td>\n",
       "      <td>Positive</td>\n",
       "    </tr>\n",
       "    <tr>\n",
       "      <th>6</th>\n",
       "      <td>4</td>\n",
       "      <td>Wonderful</td>\n",
       "      <td>mobile handy packed good performances nice camera iphone good experience apple battery worst hardly getting hours screen time positive thing came know hours spending mobile poor battery mobile hours day read</td>\n",
       "      <td>Positive</td>\n",
       "      <td>Positive</td>\n",
       "    </tr>\n",
       "    <tr>\n",
       "      <th>7</th>\n",
       "      <td>4</td>\n",
       "      <td>Worth the money</td>\n",
       "      <td>compact handy good image stability gives amazing experience battery capacity little poor worth buying budget ratingread</td>\n",
       "      <td>Positive</td>\n",
       "      <td>Positive</td>\n",
       "    </tr>\n",
       "    <tr>\n",
       "      <th>8</th>\n",
       "      <td>4</td>\n",
       "      <td>Very Good</td>\n",
       "      <td>going use apple time amazed performance wise phone ultra camera pretty good attached images taken indoor display good best thing phone size easy use phone singe handedly excellent grip fits crisply pockets worst thing battery doesnt long better power bank avoid sudden switch read</td>\n",
       "      <td>Positive</td>\n",
       "      <td>Positive</td>\n",
       "    </tr>\n",
       "    <tr>\n",
       "      <th>9</th>\n",
       "      <td>3</td>\n",
       "      <td>Iphone SE Budgeted Phone of 2020?</td>\n",
       "      <td>purchased new iphone se based usage week rate product follows pros display quality good camera quality excellent takes sharp images blurriness touch sensor works precisely durability phone good quality body aluminum durable aluminum mobile industry read</td>\n",
       "      <td>Positive</td>\n",
       "      <td>Positive</td>\n",
       "    </tr>\n",
       "  </tbody>\n",
       "</table>\n",
       "</div>"
      ],
      "text/plain": [
       "   Ratings                            Comment  \\\n",
       "0        5                             Super!   \n",
       "1        5                          Must buy!   \n",
       "2        5                      Great product   \n",
       "3        5                     Simply awesome   \n",
       "4        5                     Classy product   \n",
       "5        4           Love at First Home Touch   \n",
       "6        4                          Wonderful   \n",
       "7        4                    Worth the money   \n",
       "8        4                          Very Good   \n",
       "9        3  Iphone SE Budgeted Phone of 2020?   \n",
       "\n",
       "                                                                                                                                                                                                                                                                                                                  Reviews  \\\n",
       "0                                 great camera pics videos battery life good far setting turn use use turn use power saving mode time day light gaming camera listening music car youtube bluetooth couple hours gives day battery varing hours sot dayperformance notch plays game task easevery premium phone look read   \n",
       "1                                                                                                           great device let tell pros superb build quality great display camera great good lighting conditions processing great sound superb quality great red colour looks superb portrait mode photography superb read   \n",
       "2                                                                                                                                                                                                                                              loves older size e inch type definitely better xr xs best price usage read   \n",
       "3           iphone se best phone beautifully designed gives classy look palms performance wise benchmark disappointed budget purchase point size looking wont disappointed strongly recommend phone people work oriented game loves skip phone game phone best features stunning looks performance battery life good read   \n",
       "4  second iphone iphone ive long time android user ill tell phone prospective buyers photo video enthusiasts reliable camera fast excellent picture quality videos absolutely stable professional quality amazed people shoot youtube videos iphone downside display doesnt justice photos videos taken night photos read   \n",
       "5                                totally worth price ios fan like compact phone want switch android iphone like clicking good photos camera unbeatable multitask normal phones stuck apps going hiatus lag like listen music speakers watch movie music feels like dolby atmos lot technical advantages dont want yo read   \n",
       "6                                                                                                         mobile handy packed good performances nice camera iphone good experience apple battery worst hardly getting hours screen time positive thing came know hours spending mobile poor battery mobile hours day read   \n",
       "7                                                                                                                                                                                                 compact handy good image stability gives amazing experience battery capacity little poor worth buying budget ratingread   \n",
       "8                                going use apple time amazed performance wise phone ultra camera pretty good attached images taken indoor display good best thing phone size easy use phone singe handedly excellent grip fits crisply pockets worst thing battery doesnt long better power bank avoid sudden switch read   \n",
       "9                                                           purchased new iphone se based usage week rate product follows pros display quality good camera quality excellent takes sharp images blurriness touch sensor works precisely durability phone good quality body aluminum durable aluminum mobile industry read   \n",
       "\n",
       "  MyReviews sentiment  \n",
       "0  Positive  Positive  \n",
       "1  Positive  Positive  \n",
       "2  Positive  Positive  \n",
       "3  Positive  Positive  \n",
       "4  Positive  Positive  \n",
       "5  Positive  Positive  \n",
       "6  Positive  Positive  \n",
       "7  Positive  Positive  \n",
       "8  Positive  Positive  \n",
       "9  Positive  Positive  "
      ]
     },
     "execution_count": 44,
     "metadata": {},
     "output_type": "execute_result"
    }
   ],
   "source": [
    "df.head(10)"
   ]
  },
  {
   "cell_type": "code",
   "execution_count": 24,
   "id": "45b43e73",
   "metadata": {},
   "outputs": [
    {
     "data": {
      "text/plain": [
       "array(['Super!', 'Must buy!', 'Great product', 'Simply awesome',\n",
       "       'Classy product', 'Love at First Home Touch', 'Wonderful',\n",
       "       'Worth the money', 'Very Good',\n",
       "       'Iphone SE Budgeted Phone of 2020?', 'Brilliant',\n",
       "       'Value-for-money', 'Nice product', 'Best in the market!',\n",
       "       'Just wow!', 'Unsatisfactory', 'Perfect product!',\n",
       "       'Best in this budget', 'Terrific', 'Awesome', 'Does the job',\n",
       "       'Go for it without any hesitation.', 'Mind-blowing purchase',\n",
       "       'Good phone for the price', 'Highly recommended', 'Good choice',\n",
       "       'Worth every penny', 'Terrible product', 'Terrific purchase',\n",
       "       'Super!Little Champ is here!', 'Perfecto !', 'Really Nice',\n",
       "       'Excellent', 'Delightful', 'Nice', 'Fabulous!', 'Fair',\n",
       "       'Excellent Phone', 'Good quality product', 'Does its job',\n",
       "       'The first affordable iPhone',\n",
       "       \"Doesn't feel like carrying a BRICK!!\", 'Pretty good',\n",
       "       'Best upgrade for previous SE users - performance and battery',\n",
       "       'Simple phone with powerful processor', 'Just okay', 'Bad quality',\n",
       "       'Decent product',\n",
       "       'A ideal upgrade for iPhone6s and its predecessors',\n",
       "       'A Super Affordable Smart Phone !!', 'Love it',\n",
       "       'I expect this to be best but unfortunately last',\n",
       "       'Fabulous! Excellent yet Powerful !!', 'Decent Product',\n",
       "       'Mind-blowing purchase, Go for it!',\n",
       "       'Super! and Value for money product from Apple', 'Good',\n",
       "       'Moderate', 'Great phone but disappointed with no accessories',\n",
       "       '1 week user', 'Expected a better product',\n",
       "       'Excellent Specs Let Down/Throttled Only By Battery Life!',\n",
       "       'Could be way better', 'Excellent, worth buying.',\n",
       "       'For those who love small screens', 'Good Phone',\n",
       "       'Did not meet expectations', 'Absolute rubbish!', 'Worthless',\n",
       "       'Not recommended at all', 'Faulty product',\n",
       "       'Worst experience ever!', 'So much to love, so little to hold❤️',\n",
       "       'Waste of money!',\n",
       "       'Hated it! Charger and ear phone not included in this model.',\n",
       "       'Mustbuy best in class. rugged build quality best for parents',\n",
       "       \"Don't waste your money\", 'Wonderful + Fabulous + Amazing + Handy',\n",
       "       'On Time Delivery', 'Battery Health dropped to 97% in 30 days!',\n",
       "       \"Come, Let's Fall in Love Again!\",\n",
       "       'Flipkart is cheating with their customers', 'Very poor',\n",
       "       'Slightly disappointed', 'Perfect gift for my Mom !',\n",
       "       'Authentic, Smart Performer',\n",
       "       'Great Purchase: Worth the Investment', 'Not good', 'Horrible',\n",
       "       'Utterly Disappointed', 'Just go for it',\n",
       "       'Good phone, except battery everything else works amazing',\n",
       "       'good i phone in this price', 'Useless product',\n",
       "       'It would be a deal breaker if Mobile battery is good.',\n",
       "       'What an \"INNOVATION\"',\n",
       "       'Nice small and easy to use but power full iphone',\n",
       "       \"Don't buy if you are used to with bigger screen.\", 'Hated it!',\n",
       "       \"Don't waste your money please stay away from higly priced SE\",\n",
       "       ':)', 'just go for 11', 'Its worth selling my kidney',\n",
       "       'I love this little one!', 'definitely worth buying',\n",
       "       'Value for Money',\n",
       "       'Unsatisfactory Never buy anything from Flipkart. My Last.',\n",
       "       'Perfect choice', 'An Excellent Phone', 'A Great Phone',\n",
       "       'Best Budget buy',\n",
       "       'Recommended for anyone planning to buy iPhone within 40k',\n",
       "       'feel the premium', 'Good phone except for battery performance',\n",
       "       'Battery will be product killer',\n",
       "       'Decent product! Budget Buy, Finally Apple Brand New Phone',\n",
       "       'Perfect product', 'Phone Heats Up', 'Very very bad experience',\n",
       "       'cheating customers', \"Micro phone default - can't hear anything\",\n",
       "       'Terrible product. Battery health dropped to 97% in 15 days',\n",
       "       'Absolute rubbish! Never buy Apple Se 2020', 'Small is still good',\n",
       "       'Bad Product', 'Not a good product', 'Awesome product from apple',\n",
       "       'Disappointed with Look and Feel',\n",
       "       'Poor Battery, Overall Okay phone', 'DISAPPOINTED FROM APPLE',\n",
       "       'cheap quality phone.', 'value product for the price', 'Handy',\n",
       "       'Monster phone with Limited battery backup.',\n",
       "       'Quick Powerful and Handy', 'VERY GOOD', 'Jeeves is FRAUD Company',\n",
       "       'iphone lover', 'do not misguide purchasers', 'Used Phone',\n",
       "       'Smart, Handy product',\n",
       "       'Awesome Flipkart Sales & Service. Iphone-Best.', 'Good Product',\n",
       "       'Very Nice Phone', 'Allrounder Performance',\n",
       "       'Sir Yeh to Gold Hai (Except Battery Life)',\n",
       "       'perfect logistics by flipkart', 'Hard ware problem',\n",
       "       'Good quality product (1 months usage)', 'Love it!', 'WOW!!!',\n",
       "       'Good but not great', 'Just wow! superb', 'Go for it!',\n",
       "       'Budget Iphone', 'Wonderful - Worth every penny',\n",
       "       'BATTERY NOT UPTO THE MARK', 'Good deal', 'It just Snaps!!',\n",
       "       'Its power packed and a quality product',\n",
       "       'Best compact phone of 2020', 'Bed Connectivity',\n",
       "       'Nice gift to my Parents', 'Chota packet bada dhamaka !!!!',\n",
       "       'Loved it', 'Impressive!!', 'Simply awesome, highly recommended',\n",
       "       'Product is good', 'GOOD', 'Not bad', 'super',\n",
       "       'Defective Phone delivered by FLIPKART.', 'Not Good',\n",
       "       'Hot and Handy', 'Bad battery back up', 'A lot like iphone7',\n",
       "       'Best Mobile Phone', 'best experience',\n",
       "       'Highly recommended * i 💖 Apple',\n",
       "       'Honest Review after 15 days of usage', 'First transition to iOS',\n",
       "       'Awesome Phone for older generation people',\n",
       "       'Product of the Year - iPhone SE', 'Worth the Money',\n",
       "       'Wise purchase',\n",
       "       'Bettery backup is bad. Facing wifi reception issue also',\n",
       "       'Bang for the buck', 'Ok Product by Apple :)',\n",
       "       'Best phone under 50K', 'Battery bites',\n",
       "       'IMRESSIVE DEAL, bought at just 24750 !!',\n",
       "       'after usage for a week',\n",
       "       'Best value small phone more practical than pixel 4a in india',\n",
       "       'simple but powerfull', 'Must buy!IPHONE SE',\n",
       "       'Momentous Purchase but no regrets', 'Value for money',\n",
       "       'Excellent product.', 'Pocket Size Dynamo !!', 'NICE PRODUCT',\n",
       "       'Just wow! Phone', 'Beware Of buying online',\n",
       "       'Good Product at Very Cheap Prize !!!', 'Best buy @ BBD Sale...',\n",
       "       'Excellent phone with okay battery.',\n",
       "       'Ultra Power with Ultra saving', 'good in less budgets',\n",
       "       'Amazing product, but battery would be a concern.',\n",
       "       'Love this Phone', 'Good product',\n",
       "       'Product Good, Flipkart Service Very Bad', 'OKAY!',\n",
       "       'Budget Smartphone', 'Damaged', 'Value For Money', 'great!!!',\n",
       "       'Worth every penny!', 'Iphone Super Exciting',\n",
       "       'Worth considering Apple security and durability',\n",
       "       'Nice product (Not Battery Backup)', 'Poor Battery', 'Superb!!!',\n",
       "       'Lovely Phone with Excellent Features !',\n",
       "       'Defective piece supplied by Flipkart in the name of SALE.',\n",
       "       'Nice Phone.', 'beast product',\n",
       "       'Just wow! Bought it for 24249 RS in BBD Sale',\n",
       "       'Excellent phone and value for money',\n",
       "       'Pretty good.. Just Awesome for Apple Lovers', 'semma',\n",
       "       'the Red Apple', 'Almost Perfect', 'Performance king',\n",
       "       'Best In range', 'VERY NICE', 'Great Phone', 'My best phone ever',\n",
       "       'Good for professional usage.', 'Worst Service Provider',\n",
       "       'good one', 'Lovely Phone', 'Very good option in the 40K range.',\n",
       "       'only BATTERY is downside', 'POOR BATTERY AND DONOT PHONEPE',\n",
       "       'Phone is strictly meant for general purpose users only',\n",
       "       'Good product but exchange system can be improved.',\n",
       "       'Audio Jack is now unique', 'Expected a better product from Apple',\n",
       "       'Outstanding courier facility & product also',\n",
       "       'Nice photo, but battery is big big concerns.',\n",
       "       'Iphone SE good annd compact size', 'Superb...', 'The Best Choice',\n",
       "       'Iphone - nothing else matters',\n",
       "       'good product, but bad battery backup', 'Worthless, avoid!!',\n",
       "       'A beast at affordable price', 'Awesome .',\n",
       "       'thanks to apple and flipkart',\n",
       "       'Perfect upgrade from apple iPhone SE',\n",
       "       'Iphone is Iphone.............', 'SUPERB IPHONE',\n",
       "       'Perfect iphone. Worth the price!!', 'Go for it with a blind eye!'],\n",
       "      dtype=object)"
      ]
     },
     "execution_count": 24,
     "metadata": {},
     "output_type": "execute_result"
    }
   ],
   "source": [
    "df.Comment.unique()"
   ]
  },
  {
   "cell_type": "code",
   "execution_count": 38,
   "id": "08c162ba",
   "metadata": {},
   "outputs": [],
   "source": [
    "# Generate a word cloud image\n",
    "#wordcloud = WordCloud(background_color=\"white\").generate(Reviews)\n",
    "# Display the generated image:\n",
    "# the matplotlib way:\n",
    "#plt.figure(figsize=(10,10))\n",
    "#plt.imshow(wordcloud, interpolation='bilinear')\n",
    "#plt.axis(\"off\")\n",
    "#plt.show()"
   ]
  },
  {
   "cell_type": "code",
   "execution_count": null,
   "id": "6476c882",
   "metadata": {},
   "outputs": [],
   "source": [
    "word_freq_plot(df, 'Comment', apply_stopwords=True)"
   ]
  },
  {
   "cell_type": "code",
   "execution_count": 46,
   "id": "c496396e",
   "metadata": {},
   "outputs": [
    {
     "name": "stderr",
     "output_type": "stream",
     "text": [
      "C:\\Users\\lamz\\anaconda3\\lib\\site-packages\\seaborn\\_decorators.py:36: FutureWarning: Pass the following variable as a keyword arg: x. From version 0.12, the only valid positional argument will be `data`, and passing other arguments without an explicit keyword will result in an error or misinterpretation.\n",
      "  warnings.warn(\n"
     ]
    },
    {
     "data": {
      "image/png": "[encoded data removed]",
      "text/plain": [
       "<Figure size 432x288 with 1 Axes>"
      ]
     },
     "metadata": {
      "needs_background": "light"
     },
     "output_type": "display_data"
    }
   ],
   "source": [
    "sns.countplot(df[\"sentiment\"]);"
   ]
  },
  {
   "cell_type": "code",
   "execution_count": null,
   "id": "cfe1fd23",
   "metadata": {},
   "outputs": [],
   "source": []
  },
  {
   "cell_type": "code",
   "execution_count": null,
   "id": "53a405ef",
   "metadata": {},
   "outputs": [],
   "source": []
  }
 ],
 "metadata": {
  "kernelspec": {
   "display_name": "Python 3",
   "language": "python",
   "name": "python3"
  }
 },
 "nbformat": 4,
 "nbformat_minor": 5
}
