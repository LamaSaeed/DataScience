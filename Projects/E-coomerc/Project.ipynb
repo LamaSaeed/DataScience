{
 "cells": [
  {
   "cell_type": "code",
   "execution_count": 229,
   "id": "4a60987d",
   "metadata": {},
   "outputs": [],
   "source": [
    "import pandas as pd\n",
    "import numpy as np\n",
    "import datetime"
   ]
  },
  {
   "cell_type": "markdown",
   "id": "d7ca3ad5",
   "metadata": {},
   "source": [
    "# loinding data \n",
    "\n",
    "Let's take a look at some data and see how pandas can help us navigate.\n",
    "\n",
    "This dataset about cereal lives on [Data open](https://data.gov.sa/Data/ar/dataset/commercial-register-2020/resource/0205953d-f966-4b52-8390-846ba33f4229)"
   ]
  },
  {
   "cell_type": "code",
   "execution_count": 230,
   "id": "e321fc3b",
   "metadata": {
    "scrolled": true
   },
   "outputs": [
    {
     "data": {
      "text/html": [
       "<div>\n",
       "<style scoped>\n",
       "    .dataframe tbody tr th:only-of-type {\n",
       "        vertical-align: middle;\n",
       "    }\n",
       "\n",
       "    .dataframe tbody tr th {\n",
       "        vertical-align: top;\n",
       "    }\n",
       "\n",
       "    .dataframe thead th {\n",
       "        text-align: right;\n",
       "    }\n",
       "</style>\n",
       "<table border=\"1\" class=\"dataframe\">\n",
       "  <thead>\n",
       "    <tr style=\"text-align: right;\">\n",
       "      <th></th>\n",
       "      <th>Activity</th>\n",
       "      <th>Date</th>\n",
       "      <th>Names</th>\n",
       "      <th>Citys</th>\n",
       "      <th>Satet</th>\n",
       "      <th>Types</th>\n",
       "      <th>Number_Record</th>\n",
       "    </tr>\n",
       "  </thead>\n",
       "  <tbody>\n",
       "    <tr>\n",
       "      <th>0</th>\n",
       "      <td>صناعة البلك الأسمنتي المفرغ والآجر</td>\n",
       "      <td>2020-01-01 00:00:00</td>\n",
       "      <td>مصنع رهام رفيدى يحي قحاص للصناعة</td>\n",
       "      <td>الرياض</td>\n",
       "      <td>الرياض</td>\n",
       "      <td>فرعي</td>\n",
       "      <td>1010619948</td>\n",
       "    </tr>\n",
       "    <tr>\n",
       "      <th>1</th>\n",
       "      <td>صناعة الملابس الرجالية الجاهزة ، يشمل ( الثياب...</td>\n",
       "      <td>2020-01-01 00:00:00</td>\n",
       "      <td>مصنع نقواء ابراهيم مطلق العتيبي للصناعة</td>\n",
       "      <td>الرياض</td>\n",
       "      <td>الرياض</td>\n",
       "      <td>فرعي</td>\n",
       "      <td>1010619949</td>\n",
       "    </tr>\n",
       "    <tr>\n",
       "      <th>2</th>\n",
       "      <td>صناعة أطعمة الإفطار من الحبوب على شكل رقائق ، ...</td>\n",
       "      <td>2020-01-01 00:00:00</td>\n",
       "      <td>مصنع نوره حمود بن عقاب الحمادي للصناعة</td>\n",
       "      <td>الرياض</td>\n",
       "      <td>الرياض</td>\n",
       "      <td>فرعي</td>\n",
       "      <td>1010619951</td>\n",
       "    </tr>\n",
       "    <tr>\n",
       "      <th>3</th>\n",
       "      <td>إصلاح وصيانة أجهزة الهواتف المحمولة (الجوال)</td>\n",
       "      <td>2020-01-01 00:00:00</td>\n",
       "      <td>مصنع غازي فهيد بن غازي الاسعدي للصناعة</td>\n",
       "      <td>الرياض</td>\n",
       "      <td>الرياض</td>\n",
       "      <td>رئيسي</td>\n",
       "      <td>1010619955</td>\n",
       "    </tr>\n",
       "    <tr>\n",
       "      <th>4</th>\n",
       "      <td>صناعة صفائح من قشرة الخشب الرقيقة ( الأبلكاش )...</td>\n",
       "      <td>2020-01-01 00:00:00</td>\n",
       "      <td>مصنع صارم سعد عبيد آل بريك للصناعات الخشبية</td>\n",
       "      <td>الرياض</td>\n",
       "      <td>الرياض</td>\n",
       "      <td>رئيسي</td>\n",
       "      <td>1010619956</td>\n",
       "    </tr>\n",
       "  </tbody>\n",
       "</table>\n",
       "</div>"
      ],
      "text/plain": [
       "                                            Activity                 Date  \\\n",
       "0                 صناعة البلك الأسمنتي المفرغ والآجر  2020-01-01 00:00:00   \n",
       "1  صناعة الملابس الرجالية الجاهزة ، يشمل ( الثياب...  2020-01-01 00:00:00   \n",
       "2  صناعة أطعمة الإفطار من الحبوب على شكل رقائق ، ...  2020-01-01 00:00:00   \n",
       "3       إصلاح وصيانة أجهزة الهواتف المحمولة (الجوال)  2020-01-01 00:00:00   \n",
       "4  صناعة صفائح من قشرة الخشب الرقيقة ( الأبلكاش )...  2020-01-01 00:00:00   \n",
       "\n",
       "                                         Names   Citys   Satet  Types  \\\n",
       "0             مصنع رهام رفيدى يحي قحاص للصناعة  الرياض  الرياض   فرعي   \n",
       "1      مصنع نقواء ابراهيم مطلق العتيبي للصناعة  الرياض  الرياض   فرعي   \n",
       "2       مصنع نوره حمود بن عقاب الحمادي للصناعة  الرياض  الرياض   فرعي   \n",
       "3       مصنع غازي فهيد بن غازي الاسعدي للصناعة  الرياض  الرياض  رئيسي   \n",
       "4  مصنع صارم سعد عبيد آل بريك للصناعات الخشبية  الرياض  الرياض  رئيسي   \n",
       "\n",
       "   Number_Record  \n",
       "0     1010619948  \n",
       "1     1010619949  \n",
       "2     1010619951  \n",
       "3     1010619955  \n",
       "4     1010619956  "
      ]
     },
     "execution_count": 230,
     "metadata": {},
     "output_type": "execute_result"
    }
   ],
   "source": [
    "df = pd.read_excel('My_data.xlsx' )  \n",
    "df.head()"
   ]
  },
  {
   "cell_type": "code",
   "execution_count": 231,
   "id": "01035b43",
   "metadata": {},
   "outputs": [
    {
     "data": {
      "text/plain": [
       "(198286, 7)"
      ]
     },
     "execution_count": 231,
     "metadata": {},
     "output_type": "execute_result"
    }
   ],
   "source": [
    "df.shape"
   ]
  },
  {
   "cell_type": "code",
   "execution_count": 232,
   "id": "d24acb87",
   "metadata": {},
   "outputs": [
    {
     "name": "stdout",
     "output_type": "stream",
     "text": [
      "<class 'pandas.core.frame.DataFrame'>\n",
      "RangeIndex: 198286 entries, 0 to 198285\n",
      "Data columns (total 7 columns):\n",
      " #   Column         Non-Null Count   Dtype \n",
      "---  ------         --------------   ----- \n",
      " 0   Activity       198277 non-null  object\n",
      " 1   Date           198286 non-null  object\n",
      " 2   Names          198285 non-null  object\n",
      " 3   Citys          198286 non-null  object\n",
      " 4   Satet          198286 non-null  object\n",
      " 5   Types          198286 non-null  object\n",
      " 6   Number_Record  198286 non-null  int64 \n",
      "dtypes: int64(1), object(6)\n",
      "memory usage: 10.6+ MB\n"
     ]
    }
   ],
   "source": [
    "df.info()"
   ]
  },
  {
   "cell_type": "code",
   "execution_count": 233,
   "id": "155c85be",
   "metadata": {},
   "outputs": [
    {
     "data": {
      "text/plain": [
       "Index(['Activity', 'Date', 'Names', 'Citys', 'Satet', 'Types',\n",
       "       'Number_Record'],\n",
       "      dtype='object')"
      ]
     },
     "execution_count": 233,
     "metadata": {},
     "output_type": "execute_result"
    }
   ],
   "source": [
    "df.columns"
   ]
  },
  {
   "cell_type": "code",
   "execution_count": 234,
   "id": "d1ba815d",
   "metadata": {},
   "outputs": [],
   "source": [
    "#df2 = df[['النشاط', 'التاريخ', 'أسماء', 'المدينة', 'المنطقة', 'التصنيف ']] \n",
    "\n",
    "df2 = df[['Activity','Date','Names','Citys','Satet','Types']]"
   ]
  },
  {
   "cell_type": "code",
   "execution_count": 235,
   "id": "41f7c3cc",
   "metadata": {},
   "outputs": [
    {
     "data": {
      "text/html": [
       "<div>\n",
       "<style scoped>\n",
       "    .dataframe tbody tr th:only-of-type {\n",
       "        vertical-align: middle;\n",
       "    }\n",
       "\n",
       "    .dataframe tbody tr th {\n",
       "        vertical-align: top;\n",
       "    }\n",
       "\n",
       "    .dataframe thead th {\n",
       "        text-align: right;\n",
       "    }\n",
       "</style>\n",
       "<table border=\"1\" class=\"dataframe\">\n",
       "  <thead>\n",
       "    <tr style=\"text-align: right;\">\n",
       "      <th></th>\n",
       "      <th>Activity</th>\n",
       "      <th>Date</th>\n",
       "      <th>Names</th>\n",
       "      <th>Citys</th>\n",
       "      <th>Satet</th>\n",
       "      <th>Types</th>\n",
       "    </tr>\n",
       "  </thead>\n",
       "  <tbody>\n",
       "    <tr>\n",
       "      <th>0</th>\n",
       "      <td>صناعة البلك الأسمنتي المفرغ والآجر</td>\n",
       "      <td>2020-01-01 00:00:00</td>\n",
       "      <td>مصنع رهام رفيدى يحي قحاص للصناعة</td>\n",
       "      <td>الرياض</td>\n",
       "      <td>الرياض</td>\n",
       "      <td>فرعي</td>\n",
       "    </tr>\n",
       "    <tr>\n",
       "      <th>1</th>\n",
       "      <td>صناعة الملابس الرجالية الجاهزة ، يشمل ( الثياب...</td>\n",
       "      <td>2020-01-01 00:00:00</td>\n",
       "      <td>مصنع نقواء ابراهيم مطلق العتيبي للصناعة</td>\n",
       "      <td>الرياض</td>\n",
       "      <td>الرياض</td>\n",
       "      <td>فرعي</td>\n",
       "    </tr>\n",
       "    <tr>\n",
       "      <th>2</th>\n",
       "      <td>صناعة أطعمة الإفطار من الحبوب على شكل رقائق ، ...</td>\n",
       "      <td>2020-01-01 00:00:00</td>\n",
       "      <td>مصنع نوره حمود بن عقاب الحمادي للصناعة</td>\n",
       "      <td>الرياض</td>\n",
       "      <td>الرياض</td>\n",
       "      <td>فرعي</td>\n",
       "    </tr>\n",
       "    <tr>\n",
       "      <th>3</th>\n",
       "      <td>إصلاح وصيانة أجهزة الهواتف المحمولة (الجوال)</td>\n",
       "      <td>2020-01-01 00:00:00</td>\n",
       "      <td>مصنع غازي فهيد بن غازي الاسعدي للصناعة</td>\n",
       "      <td>الرياض</td>\n",
       "      <td>الرياض</td>\n",
       "      <td>رئيسي</td>\n",
       "    </tr>\n",
       "    <tr>\n",
       "      <th>4</th>\n",
       "      <td>صناعة صفائح من قشرة الخشب الرقيقة ( الأبلكاش )...</td>\n",
       "      <td>2020-01-01 00:00:00</td>\n",
       "      <td>مصنع صارم سعد عبيد آل بريك للصناعات الخشبية</td>\n",
       "      <td>الرياض</td>\n",
       "      <td>الرياض</td>\n",
       "      <td>رئيسي</td>\n",
       "    </tr>\n",
       "  </tbody>\n",
       "</table>\n",
       "</div>"
      ],
      "text/plain": [
       "                                            Activity                 Date  \\\n",
       "0                 صناعة البلك الأسمنتي المفرغ والآجر  2020-01-01 00:00:00   \n",
       "1  صناعة الملابس الرجالية الجاهزة ، يشمل ( الثياب...  2020-01-01 00:00:00   \n",
       "2  صناعة أطعمة الإفطار من الحبوب على شكل رقائق ، ...  2020-01-01 00:00:00   \n",
       "3       إصلاح وصيانة أجهزة الهواتف المحمولة (الجوال)  2020-01-01 00:00:00   \n",
       "4  صناعة صفائح من قشرة الخشب الرقيقة ( الأبلكاش )...  2020-01-01 00:00:00   \n",
       "\n",
       "                                         Names   Citys   Satet  Types  \n",
       "0             مصنع رهام رفيدى يحي قحاص للصناعة  الرياض  الرياض   فرعي  \n",
       "1      مصنع نقواء ابراهيم مطلق العتيبي للصناعة  الرياض  الرياض   فرعي  \n",
       "2       مصنع نوره حمود بن عقاب الحمادي للصناعة  الرياض  الرياض   فرعي  \n",
       "3       مصنع غازي فهيد بن غازي الاسعدي للصناعة  الرياض  الرياض  رئيسي  \n",
       "4  مصنع صارم سعد عبيد آل بريك للصناعات الخشبية  الرياض  الرياض  رئيسي  "
      ]
     },
     "execution_count": 235,
     "metadata": {},
     "output_type": "execute_result"
    }
   ],
   "source": [
    "df2.head()"
   ]
  },
  {
   "cell_type": "code",
   "execution_count": 236,
   "id": "62e6320e",
   "metadata": {},
   "outputs": [
    {
     "name": "stderr",
     "output_type": "stream",
     "text": [
      "<ipython-input-236-4ec229e9daef>:2: SettingWithCopyWarning: \n",
      "A value is trying to be set on a copy of a slice from a DataFrame.\n",
      "Try using .loc[row_indexer,col_indexer] = value instead\n",
      "\n",
      "See the caveats in the documentation: https://pandas.pydata.org/pandas-docs/stable/user_guide/indexing.html#returning-a-view-versus-a-copy\n",
      "  df2['Date'] = pd.to_datetime(df['Date'],infer_datetime_format = True)\n"
     ]
    }
   ],
   "source": [
    "#df['التاريخ'] = pd.to_datetime(df['التاريخ'],format = \"%Y/%m/%d, %H:%M:S\") \n",
    "df2['Date'] = pd.to_datetime(df['Date'],infer_datetime_format = True) "
   ]
  },
  {
   "cell_type": "code",
   "execution_count": 237,
   "id": "c6eabe23",
   "metadata": {
    "scrolled": true
   },
   "outputs": [
    {
     "data": {
      "text/plain": [
       "Activity            object\n",
       "Date        datetime64[ns]\n",
       "Names               object\n",
       "Citys               object\n",
       "Satet               object\n",
       "Types               object\n",
       "dtype: object"
      ]
     },
     "execution_count": 237,
     "metadata": {},
     "output_type": "execute_result"
    }
   ],
   "source": [
    "df2.dtypes"
   ]
  },
  {
   "cell_type": "code",
   "execution_count": 238,
   "id": "83c90873",
   "metadata": {},
   "outputs": [
    {
     "data": {
      "text/plain": [
       "Index(['Activity', 'Date', 'Names', 'Citys', 'Satet', 'Types'], dtype='object')"
      ]
     },
     "execution_count": 238,
     "metadata": {},
     "output_type": "execute_result"
    }
   ],
   "source": [
    "df2.columns"
   ]
  },
  {
   "attachments": {},
   "cell_type": "markdown",
   "id": "45864310",
   "metadata": {},
   "source": [
    "# The Answer for Q1\n",
    "\n",
    "- i want know how many citys is more open it Commercial record "
   ]
  },
  {
   "cell_type": "code",
   "execution_count": 255,
   "id": "1f47c7e0",
   "metadata": {
    "scrolled": true
   },
   "outputs": [
    {
     "data": {
      "text/plain": [
       "الرياض             50567\n",
       "جدة                26262\n",
       "مكة المكرمة         9115\n",
       "المدينة المنورة     8087\n",
       "الدمام              8075\n",
       "                   ...  \n",
       "الشقرة                 1\n",
       "العقير                 1\n",
       "البطين                 1\n",
       "الخريبة                1\n",
       "البتراء                1\n",
       "Name: Citys, Length: 230, dtype: int64"
      ]
     },
     "execution_count": 255,
     "metadata": {},
     "output_type": "execute_result"
    }
   ],
   "source": [
    "df2.Citys.value_counts()"
   ]
  },
  {
   "cell_type": "code",
   "execution_count": 209,
   "id": "13003731",
   "metadata": {},
   "outputs": [
    {
     "data": {
      "text/plain": [
       "<Figure size 1296x1440 with 0 Axes>"
      ]
     },
     "execution_count": 209,
     "metadata": {},
     "output_type": "execute_result"
    },
    {
     "data": {
      "image/png": "[encoded data removed]",
      "text/plain": [
       "<Figure size 432x288 with 1 Axes>"
      ]
     },
     "metadata": {},
     "output_type": "display_data"
    },
    {
     "data": {
      "text/plain": [
       "<Figure size 1296x1440 with 0 Axes>"
      ]
     },
     "metadata": {},
     "output_type": "display_data"
    }
   ],
   "source": [
    "import seaborn as sns\n",
    "import matplotlib.pyplot as plt  \n",
    "\n",
    "sns.set_style(\"dark\")\n",
    "sns.barplot(x=(df2['Citys'].value_counts().index)[:5],y=(dd['Citys'].value_counts())[:5])\n",
    "plt.figure(figsize=(18,20))"
   ]
  },
  {
   "attachments": {},
   "cell_type": "markdown",
   "id": "5f7705b3",
   "metadata": {},
   "source": [
    "# The Answer for Q2\n",
    "\n",
    "- i use date batween  mounth 3 - 7  to know how many person open record for e-commerce "
   ]
  },
  {
   "cell_type": "code",
   "execution_count": 239,
   "id": "af5c0e4c",
   "metadata": {},
   "outputs": [],
   "source": [
    "newdd=dd.copy()"
   ]
  },
  {
   "cell_type": "code",
   "execution_count": 240,
   "id": "43bd925b",
   "metadata": {},
   "outputs": [],
   "source": [
    "statr_date='2020-03-01'\n",
    "end_date='2020-07-01'"
   ]
  },
  {
   "cell_type": "code",
   "execution_count": 241,
   "id": "e7a64e1c",
   "metadata": {},
   "outputs": [],
   "source": [
    "mask = (df2['Date']> statr_date ) & (df2['Date']<= end_date )"
   ]
  },
  {
   "cell_type": "code",
   "execution_count": 242,
   "id": "1d6d2545",
   "metadata": {},
   "outputs": [
    {
     "data": {
      "text/html": [
       "<div>\n",
       "<style scoped>\n",
       "    .dataframe tbody tr th:only-of-type {\n",
       "        vertical-align: middle;\n",
       "    }\n",
       "\n",
       "    .dataframe tbody tr th {\n",
       "        vertical-align: top;\n",
       "    }\n",
       "\n",
       "    .dataframe thead th {\n",
       "        text-align: right;\n",
       "    }\n",
       "</style>\n",
       "<table border=\"1\" class=\"dataframe\">\n",
       "  <thead>\n",
       "    <tr style=\"text-align: right;\">\n",
       "      <th></th>\n",
       "      <th>Activity</th>\n",
       "      <th>Date</th>\n",
       "      <th>Names</th>\n",
       "      <th>Citys</th>\n",
       "      <th>Satet</th>\n",
       "      <th>Types</th>\n",
       "    </tr>\n",
       "  </thead>\n",
       "  <tbody>\n",
       "    <tr>\n",
       "      <th>291</th>\n",
       "      <td>إصلاح وصيانة أجهزة الهواتف المحمولة (الجوال)</td>\n",
       "      <td>2020-04-01</td>\n",
       "      <td>مؤسسة نوال عبدالله بن مسفر ال زعمان للصيانة</td>\n",
       "      <td>الرياض</td>\n",
       "      <td>الرياض</td>\n",
       "      <td>فرعي</td>\n",
       "    </tr>\n",
       "    <tr>\n",
       "      <th>292</th>\n",
       "      <td>تحليل النظم،تصميم وبرمجة البرمجيات الخاصة،صيان...</td>\n",
       "      <td>2020-04-01</td>\n",
       "      <td>شركة نماء الابتكار للاتصالات و تقنية المعلومات</td>\n",
       "      <td>الرياض</td>\n",
       "      <td>الرياض</td>\n",
       "      <td>رئيسي</td>\n",
       "    </tr>\n",
       "    <tr>\n",
       "      <th>293</th>\n",
       "      <td>المطاعم مع الخدمة،البوفيهات ( الكفتريات )،أنشط...</td>\n",
       "      <td>2020-04-01</td>\n",
       "      <td>بوفية فطائر جرير للوجبات السريعة</td>\n",
       "      <td>الرياض</td>\n",
       "      <td>الرياض</td>\n",
       "      <td>رئيسي</td>\n",
       "    </tr>\n",
       "    <tr>\n",
       "      <th>295</th>\n",
       "      <td>البيع بالتجزئة للآلات والمعدات الزراعية،البيع ...</td>\n",
       "      <td>2020-04-01</td>\n",
       "      <td>مؤسسة ذيب بن مبارك بن عبدالله القحطاني الزراعية</td>\n",
       "      <td>الرياض</td>\n",
       "      <td>الرياض</td>\n",
       "      <td>فرعي</td>\n",
       "    </tr>\n",
       "    <tr>\n",
       "      <th>296</th>\n",
       "      <td>البيع بالتجزئة للحوم ومنتجات اللحوم</td>\n",
       "      <td>2020-04-01</td>\n",
       "      <td>مؤسسة ملحاء رجاء مناحي الشمري للتجارة</td>\n",
       "      <td>الرياض</td>\n",
       "      <td>الرياض</td>\n",
       "      <td>فرعي</td>\n",
       "    </tr>\n",
       "    <tr>\n",
       "      <th>...</th>\n",
       "      <td>...</td>\n",
       "      <td>...</td>\n",
       "      <td>...</td>\n",
       "      <td>...</td>\n",
       "      <td>...</td>\n",
       "      <td>...</td>\n",
       "    </tr>\n",
       "    <tr>\n",
       "      <th>198235</th>\n",
       "      <td>النقل البري للبضائع</td>\n",
       "      <td>2020-04-10</td>\n",
       "      <td>مؤسسة شريفه حسن يحى العماد للنقليات</td>\n",
       "      <td>مدينة جازان الاقتصادية (جازان</td>\n",
       "      <td>جازان</td>\n",
       "      <td>فرعي</td>\n",
       "    </tr>\n",
       "    <tr>\n",
       "      <th>198236</th>\n",
       "      <td>تقديم خدمة إدارة ومراقبة شبكات الاتصالات والمع...</td>\n",
       "      <td>2020-04-10</td>\n",
       "      <td>مؤسسة ضغطة واحدة للاتصالات</td>\n",
       "      <td>مدينة جازان الاقتصادية (جازان</td>\n",
       "      <td>جازان</td>\n",
       "      <td>رئيسي</td>\n",
       "    </tr>\n",
       "    <tr>\n",
       "      <th>198237</th>\n",
       "      <td>البيع بالتجزئة لمواد البناء ، يشمل ( الأسمنت ،...</td>\n",
       "      <td>2020-05-10</td>\n",
       "      <td>مؤسسة وادي جازان لمواد البناء</td>\n",
       "      <td>مدينة جازان الاقتصادية (جازان</td>\n",
       "      <td>جازان</td>\n",
       "      <td>رئيسي</td>\n",
       "    </tr>\n",
       "    <tr>\n",
       "      <th>198238</th>\n",
       "      <td>صناعة أوعية للغازات المسالة أو المضغوطة ، يشمل...</td>\n",
       "      <td>2020-06-10</td>\n",
       "      <td>مصنع غاز الحازمي للصناعة</td>\n",
       "      <td>مدينة جازان الاقتصادية (جازان</td>\n",
       "      <td>جازان</td>\n",
       "      <td>فرعي</td>\n",
       "    </tr>\n",
       "    <tr>\n",
       "      <th>198259</th>\n",
       "      <td>إصلاح المنتجات المعدنية عن طريق لحامها وهي في ...</td>\n",
       "      <td>2020-04-11</td>\n",
       "      <td>ورشة سعيدة محمد عبده مشيني للصيانة</td>\n",
       "      <td>مدينة جازان الاقتصادية (جازان</td>\n",
       "      <td>جازان</td>\n",
       "      <td>رئيسي</td>\n",
       "    </tr>\n",
       "  </tbody>\n",
       "</table>\n",
       "<p>44995 rows × 6 columns</p>\n",
       "</div>"
      ],
      "text/plain": [
       "                                                 Activity       Date  \\\n",
       "291          إصلاح وصيانة أجهزة الهواتف المحمولة (الجوال) 2020-04-01   \n",
       "292     تحليل النظم،تصميم وبرمجة البرمجيات الخاصة،صيان... 2020-04-01   \n",
       "293     المطاعم مع الخدمة،البوفيهات ( الكفتريات )،أنشط... 2020-04-01   \n",
       "295     البيع بالتجزئة للآلات والمعدات الزراعية،البيع ... 2020-04-01   \n",
       "296                   البيع بالتجزئة للحوم ومنتجات اللحوم 2020-04-01   \n",
       "...                                                   ...        ...   \n",
       "198235                                النقل البري للبضائع 2020-04-10   \n",
       "198236  تقديم خدمة إدارة ومراقبة شبكات الاتصالات والمع... 2020-04-10   \n",
       "198237  البيع بالتجزئة لمواد البناء ، يشمل ( الأسمنت ،... 2020-05-10   \n",
       "198238  صناعة أوعية للغازات المسالة أو المضغوطة ، يشمل... 2020-06-10   \n",
       "198259  إصلاح المنتجات المعدنية عن طريق لحامها وهي في ... 2020-04-11   \n",
       "\n",
       "                                                  Names  \\\n",
       "291         مؤسسة نوال عبدالله بن مسفر ال زعمان للصيانة   \n",
       "292      شركة نماء الابتكار للاتصالات و تقنية المعلومات   \n",
       "293                    بوفية فطائر جرير للوجبات السريعة   \n",
       "295     مؤسسة ذيب بن مبارك بن عبدالله القحطاني الزراعية   \n",
       "296               مؤسسة ملحاء رجاء مناحي الشمري للتجارة   \n",
       "...                                                 ...   \n",
       "198235              مؤسسة شريفه حسن يحى العماد للنقليات   \n",
       "198236                       مؤسسة ضغطة واحدة للاتصالات   \n",
       "198237                    مؤسسة وادي جازان لمواد البناء   \n",
       "198238                         مصنع غاز الحازمي للصناعة   \n",
       "198259               ورشة سعيدة محمد عبده مشيني للصيانة   \n",
       "\n",
       "                                Citys   Satet  Types  \n",
       "291                            الرياض  الرياض   فرعي  \n",
       "292                            الرياض  الرياض  رئيسي  \n",
       "293                            الرياض  الرياض  رئيسي  \n",
       "295                            الرياض  الرياض   فرعي  \n",
       "296                            الرياض  الرياض   فرعي  \n",
       "...                               ...     ...    ...  \n",
       "198235  مدينة جازان الاقتصادية (جازان   جازان   فرعي  \n",
       "198236  مدينة جازان الاقتصادية (جازان   جازان  رئيسي  \n",
       "198237  مدينة جازان الاقتصادية (جازان   جازان  رئيسي  \n",
       "198238  مدينة جازان الاقتصادية (جازان   جازان   فرعي  \n",
       "198259  مدينة جازان الاقتصادية (جازان   جازان  رئيسي  \n",
       "\n",
       "[44995 rows x 6 columns]"
      ]
     },
     "execution_count": 242,
     "metadata": {},
     "output_type": "execute_result"
    }
   ],
   "source": [
    "newdd= dd.loc[mask]\n",
    "newdd"
   ]
  },
  {
   "cell_type": "code",
   "execution_count": 243,
   "id": "5d832f6b",
   "metadata": {},
   "outputs": [
    {
     "data": {
      "text/html": [
       "<div>\n",
       "<style scoped>\n",
       "    .dataframe tbody tr th:only-of-type {\n",
       "        vertical-align: middle;\n",
       "    }\n",
       "\n",
       "    .dataframe tbody tr th {\n",
       "        vertical-align: top;\n",
       "    }\n",
       "\n",
       "    .dataframe thead th {\n",
       "        text-align: right;\n",
       "    }\n",
       "</style>\n",
       "<table border=\"1\" class=\"dataframe\">\n",
       "  <thead>\n",
       "    <tr style=\"text-align: right;\">\n",
       "      <th></th>\n",
       "      <th>Activity</th>\n",
       "      <th>Date</th>\n",
       "      <th>Names</th>\n",
       "      <th>Citys</th>\n",
       "      <th>Satet</th>\n",
       "      <th>Types</th>\n",
       "    </tr>\n",
       "  </thead>\n",
       "  <tbody>\n",
       "    <tr>\n",
       "      <th>305</th>\n",
       "      <td>البيع بالتجزئة عن طريق الانترنت</td>\n",
       "      <td>2020-04-01</td>\n",
       "      <td>مؤسسة يحي يزيد جابر الفيفي للتسويق الالكتروني</td>\n",
       "      <td>الرياض</td>\n",
       "      <td>الرياض</td>\n",
       "      <td>رئيسي</td>\n",
       "    </tr>\n",
       "    <tr>\n",
       "      <th>416</th>\n",
       "      <td>البيع بالتجزئة عن طريق البريد،البيع بالتجزئة ع...</td>\n",
       "      <td>2020-05-01</td>\n",
       "      <td>مؤسسة سرمد للتسويق الالكتروني</td>\n",
       "      <td>الرياض</td>\n",
       "      <td>الرياض</td>\n",
       "      <td>رئيسي</td>\n",
       "    </tr>\n",
       "    <tr>\n",
       "      <th>476</th>\n",
       "      <td>البيع بالتجزئة عن طريق الانترنت</td>\n",
       "      <td>2020-06-01</td>\n",
       "      <td>مؤسسة خدمات درة التجارية</td>\n",
       "      <td>الرياض</td>\n",
       "      <td>الرياض</td>\n",
       "      <td>رئيسي</td>\n",
       "    </tr>\n",
       "    <tr>\n",
       "      <th>481</th>\n",
       "      <td>البيع بالتجزئة عن طريق الانترنت</td>\n",
       "      <td>2020-06-01</td>\n",
       "      <td>مؤسسة مروه محمد بن سفران البشر للتجارة والتسويق</td>\n",
       "      <td>الرياض</td>\n",
       "      <td>الرياض</td>\n",
       "      <td>فرعي</td>\n",
       "    </tr>\n",
       "    <tr>\n",
       "      <th>551</th>\n",
       "      <td>البيع بالتجزئة عن طريق البريد،البيع بالتجزئة ع...</td>\n",
       "      <td>2020-06-01</td>\n",
       "      <td>مؤسسة امجد محمود ابراهيم المهوس للتجارة</td>\n",
       "      <td>الرياض</td>\n",
       "      <td>الرياض</td>\n",
       "      <td>رئيسي</td>\n",
       "    </tr>\n",
       "    <tr>\n",
       "      <th>...</th>\n",
       "      <td>...</td>\n",
       "      <td>...</td>\n",
       "      <td>...</td>\n",
       "      <td>...</td>\n",
       "      <td>...</td>\n",
       "      <td>...</td>\n",
       "    </tr>\n",
       "    <tr>\n",
       "      <th>197372</th>\n",
       "      <td>البيع بالتجزئة عن طريق الانترنت</td>\n",
       "      <td>2020-03-26</td>\n",
       "      <td>مؤسسة هلا تواصل التجارية</td>\n",
       "      <td>شرورة</td>\n",
       "      <td>نجران</td>\n",
       "      <td>رئيسي</td>\n",
       "    </tr>\n",
       "    <tr>\n",
       "      <th>197408</th>\n",
       "      <td>البيع بالتجزئة عن طريق الانترنت ,</td>\n",
       "      <td>2020-05-25</td>\n",
       "      <td>مؤسسة الأميره للعبايات للتجارة</td>\n",
       "      <td>شرورة</td>\n",
       "      <td>نجران</td>\n",
       "      <td>رئيسي</td>\n",
       "    </tr>\n",
       "    <tr>\n",
       "      <th>197448</th>\n",
       "      <td>البيع بالتجزئة عن طريق البريد،البيع بالتجزئة ع...</td>\n",
       "      <td>2020-06-21</td>\n",
       "      <td>مؤسسة مدينة الفخامة للتجارة</td>\n",
       "      <td>شرورة</td>\n",
       "      <td>نجران</td>\n",
       "      <td>رئيسي</td>\n",
       "    </tr>\n",
       "    <tr>\n",
       "      <th>197464</th>\n",
       "      <td>البيع بالتجزئة عن طريق الانترنت</td>\n",
       "      <td>2020-06-27</td>\n",
       "      <td>مؤسسة نور سالم عوض الصيعري التجارية</td>\n",
       "      <td>شرورة</td>\n",
       "      <td>نجران</td>\n",
       "      <td>رئيسي</td>\n",
       "    </tr>\n",
       "    <tr>\n",
       "      <th>198176</th>\n",
       "      <td>البيع بالجملة عن طريق الانترنت،البيع بالتجزئة ...</td>\n",
       "      <td>2020-04-27</td>\n",
       "      <td>شركة حلول نون للتسويق الالكتروني شركة شخص واحد</td>\n",
       "      <td>مدينة جازان الاقتصادية (جازان</td>\n",
       "      <td>جازان</td>\n",
       "      <td>فرعي</td>\n",
       "    </tr>\n",
       "  </tbody>\n",
       "</table>\n",
       "<p>2001 rows × 6 columns</p>\n",
       "</div>"
      ],
      "text/plain": [
       "                                                 Activity       Date  \\\n",
       "305                       البيع بالتجزئة عن طريق الانترنت 2020-04-01   \n",
       "416     البيع بالتجزئة عن طريق البريد،البيع بالتجزئة ع... 2020-05-01   \n",
       "476                       البيع بالتجزئة عن طريق الانترنت 2020-06-01   \n",
       "481                       البيع بالتجزئة عن طريق الانترنت 2020-06-01   \n",
       "551     البيع بالتجزئة عن طريق البريد،البيع بالتجزئة ع... 2020-06-01   \n",
       "...                                                   ...        ...   \n",
       "197372                    البيع بالتجزئة عن طريق الانترنت 2020-03-26   \n",
       "197408                  البيع بالتجزئة عن طريق الانترنت , 2020-05-25   \n",
       "197448  البيع بالتجزئة عن طريق البريد،البيع بالتجزئة ع... 2020-06-21   \n",
       "197464                    البيع بالتجزئة عن طريق الانترنت 2020-06-27   \n",
       "198176  البيع بالجملة عن طريق الانترنت،البيع بالتجزئة ... 2020-04-27   \n",
       "\n",
       "                                                  Names  \\\n",
       "305       مؤسسة يحي يزيد جابر الفيفي للتسويق الالكتروني   \n",
       "416                       مؤسسة سرمد للتسويق الالكتروني   \n",
       "476                            مؤسسة خدمات درة التجارية   \n",
       "481     مؤسسة مروه محمد بن سفران البشر للتجارة والتسويق   \n",
       "551             مؤسسة امجد محمود ابراهيم المهوس للتجارة   \n",
       "...                                                 ...   \n",
       "197372                         مؤسسة هلا تواصل التجارية   \n",
       "197408                   مؤسسة الأميره للعبايات للتجارة   \n",
       "197448                      مؤسسة مدينة الفخامة للتجارة   \n",
       "197464              مؤسسة نور سالم عوض الصيعري التجارية   \n",
       "198176   شركة حلول نون للتسويق الالكتروني شركة شخص واحد   \n",
       "\n",
       "                                Citys   Satet  Types  \n",
       "305                            الرياض  الرياض  رئيسي  \n",
       "416                            الرياض  الرياض  رئيسي  \n",
       "476                            الرياض  الرياض  رئيسي  \n",
       "481                            الرياض  الرياض   فرعي  \n",
       "551                            الرياض  الرياض  رئيسي  \n",
       "...                               ...     ...    ...  \n",
       "197372                          شرورة   نجران  رئيسي  \n",
       "197408                          شرورة   نجران  رئيسي  \n",
       "197448                          شرورة   نجران  رئيسي  \n",
       "197464                          شرورة   نجران  رئيسي  \n",
       "198176  مدينة جازان الاقتصادية (جازان   جازان   فرعي  \n",
       "\n",
       "[2001 rows x 6 columns]"
      ]
     },
     "execution_count": 243,
     "metadata": {},
     "output_type": "execute_result"
    }
   ],
   "source": [
    "newdd[newdd['Activity'].str.contains('عن طريق الانترنت', na=False)]"
   ]
  },
  {
   "cell_type": "code",
   "execution_count": 244,
   "id": "3f596c6d",
   "metadata": {},
   "outputs": [
    {
     "data": {
      "text/plain": [
       "<Figure size 1296x1440 with 0 Axes>"
      ]
     },
     "execution_count": 244,
     "metadata": {},
     "output_type": "execute_result"
    },
    {
     "data": {
      "image/png": "[encoded data removed]",
      "text/plain": [
       "<Figure size 432x288 with 1 Axes>"
      ]
     },
     "metadata": {},
     "output_type": "display_data"
    },
    {
     "data": {
      "text/plain": [
       "<Figure size 1296x1440 with 0 Axes>"
      ]
     },
     "metadata": {},
     "output_type": "display_data"
    }
   ],
   "source": [
    "sns.set_style(\"white\")\n",
    "sns.barplot(x=(newdd['Citys'].value_counts().index)[:10],y=(dd['Citys'].value_counts())[:10])\n",
    "plt.figure(figsize=(18,20))"
   ]
  },
  {
   "cell_type": "code",
   "execution_count": 216,
   "id": "981e31e6",
   "metadata": {},
   "outputs": [
    {
     "data": {
      "text/plain": [
       "الرياض             11297\n",
       "جدة                 5866\n",
       "مكة المكرمة         1861\n",
       "الدمام              1849\n",
       "المدينة المنورة     1786\n",
       "                   ...  \n",
       "الخماســـــين          1\n",
       "شرماء                  1\n",
       "الفريش                 1\n",
       "دوس                    1\n",
       "زلوم                   1\n",
       "Name: Citys, Length: 208, dtype: int64"
      ]
     },
     "execution_count": 216,
     "metadata": {},
     "output_type": "execute_result"
    }
   ],
   "source": [
    "newdd.Citys.value_counts()"
   ]
  },
  {
   "cell_type": "code",
   "execution_count": 204,
   "id": "bbd307ee",
   "metadata": {},
   "outputs": [
    {
     "data": {
      "text/html": [
       "<div>\n",
       "<style scoped>\n",
       "    .dataframe tbody tr th:only-of-type {\n",
       "        vertical-align: middle;\n",
       "    }\n",
       "\n",
       "    .dataframe tbody tr th {\n",
       "        vertical-align: top;\n",
       "    }\n",
       "\n",
       "    .dataframe thead th {\n",
       "        text-align: right;\n",
       "    }\n",
       "</style>\n",
       "<table border=\"1\" class=\"dataframe\">\n",
       "  <thead>\n",
       "    <tr style=\"text-align: right;\">\n",
       "      <th></th>\n",
       "      <th>Activity</th>\n",
       "      <th>Date</th>\n",
       "      <th>Names</th>\n",
       "      <th>Citys</th>\n",
       "      <th>Satet</th>\n",
       "      <th>Types</th>\n",
       "    </tr>\n",
       "  </thead>\n",
       "  <tbody>\n",
       "    <tr>\n",
       "      <th>291</th>\n",
       "      <td>إصلاح وصيانة أجهزة الهواتف المحمولة (الجوال)</td>\n",
       "      <td>2020-04-01</td>\n",
       "      <td>مؤسسة نوال عبدالله بن مسفر ال زعمان للصيانة</td>\n",
       "      <td>الرياض</td>\n",
       "      <td>الرياض</td>\n",
       "      <td>فرعي</td>\n",
       "    </tr>\n",
       "    <tr>\n",
       "      <th>292</th>\n",
       "      <td>تحليل النظم،تصميم وبرمجة البرمجيات الخاصة،صيان...</td>\n",
       "      <td>2020-04-01</td>\n",
       "      <td>شركة نماء الابتكار للاتصالات و تقنية المعلومات</td>\n",
       "      <td>الرياض</td>\n",
       "      <td>الرياض</td>\n",
       "      <td>رئيسي</td>\n",
       "    </tr>\n",
       "    <tr>\n",
       "      <th>293</th>\n",
       "      <td>المطاعم مع الخدمة،البوفيهات ( الكفتريات )،أنشط...</td>\n",
       "      <td>2020-04-01</td>\n",
       "      <td>بوفية فطائر جرير للوجبات السريعة</td>\n",
       "      <td>الرياض</td>\n",
       "      <td>الرياض</td>\n",
       "      <td>رئيسي</td>\n",
       "    </tr>\n",
       "    <tr>\n",
       "      <th>295</th>\n",
       "      <td>البيع بالتجزئة للآلات والمعدات الزراعية،البيع ...</td>\n",
       "      <td>2020-04-01</td>\n",
       "      <td>مؤسسة ذيب بن مبارك بن عبدالله القحطاني الزراعية</td>\n",
       "      <td>الرياض</td>\n",
       "      <td>الرياض</td>\n",
       "      <td>فرعي</td>\n",
       "    </tr>\n",
       "    <tr>\n",
       "      <th>296</th>\n",
       "      <td>البيع بالتجزئة للحوم ومنتجات اللحوم</td>\n",
       "      <td>2020-04-01</td>\n",
       "      <td>مؤسسة ملحاء رجاء مناحي الشمري للتجارة</td>\n",
       "      <td>الرياض</td>\n",
       "      <td>الرياض</td>\n",
       "      <td>فرعي</td>\n",
       "    </tr>\n",
       "    <tr>\n",
       "      <th>...</th>\n",
       "      <td>...</td>\n",
       "      <td>...</td>\n",
       "      <td>...</td>\n",
       "      <td>...</td>\n",
       "      <td>...</td>\n",
       "      <td>...</td>\n",
       "    </tr>\n",
       "    <tr>\n",
       "      <th>198235</th>\n",
       "      <td>النقل البري للبضائع</td>\n",
       "      <td>2020-04-10</td>\n",
       "      <td>مؤسسة شريفه حسن يحى العماد للنقليات</td>\n",
       "      <td>مدينة جازان الاقتصادية (جازان</td>\n",
       "      <td>جازان</td>\n",
       "      <td>فرعي</td>\n",
       "    </tr>\n",
       "    <tr>\n",
       "      <th>198236</th>\n",
       "      <td>تقديم خدمة إدارة ومراقبة شبكات الاتصالات والمع...</td>\n",
       "      <td>2020-04-10</td>\n",
       "      <td>مؤسسة ضغطة واحدة للاتصالات</td>\n",
       "      <td>مدينة جازان الاقتصادية (جازان</td>\n",
       "      <td>جازان</td>\n",
       "      <td>رئيسي</td>\n",
       "    </tr>\n",
       "    <tr>\n",
       "      <th>198237</th>\n",
       "      <td>البيع بالتجزئة لمواد البناء ، يشمل ( الأسمنت ،...</td>\n",
       "      <td>2020-05-10</td>\n",
       "      <td>مؤسسة وادي جازان لمواد البناء</td>\n",
       "      <td>مدينة جازان الاقتصادية (جازان</td>\n",
       "      <td>جازان</td>\n",
       "      <td>رئيسي</td>\n",
       "    </tr>\n",
       "    <tr>\n",
       "      <th>198238</th>\n",
       "      <td>صناعة أوعية للغازات المسالة أو المضغوطة ، يشمل...</td>\n",
       "      <td>2020-06-10</td>\n",
       "      <td>مصنع غاز الحازمي للصناعة</td>\n",
       "      <td>مدينة جازان الاقتصادية (جازان</td>\n",
       "      <td>جازان</td>\n",
       "      <td>فرعي</td>\n",
       "    </tr>\n",
       "    <tr>\n",
       "      <th>198259</th>\n",
       "      <td>إصلاح المنتجات المعدنية عن طريق لحامها وهي في ...</td>\n",
       "      <td>2020-04-11</td>\n",
       "      <td>ورشة سعيدة محمد عبده مشيني للصيانة</td>\n",
       "      <td>مدينة جازان الاقتصادية (جازان</td>\n",
       "      <td>جازان</td>\n",
       "      <td>رئيسي</td>\n",
       "    </tr>\n",
       "  </tbody>\n",
       "</table>\n",
       "<p>44995 rows × 6 columns</p>\n",
       "</div>"
      ],
      "text/plain": [
       "                                                 Activity       Date  \\\n",
       "291          إصلاح وصيانة أجهزة الهواتف المحمولة (الجوال) 2020-04-01   \n",
       "292     تحليل النظم،تصميم وبرمجة البرمجيات الخاصة،صيان... 2020-04-01   \n",
       "293     المطاعم مع الخدمة،البوفيهات ( الكفتريات )،أنشط... 2020-04-01   \n",
       "295     البيع بالتجزئة للآلات والمعدات الزراعية،البيع ... 2020-04-01   \n",
       "296                   البيع بالتجزئة للحوم ومنتجات اللحوم 2020-04-01   \n",
       "...                                                   ...        ...   \n",
       "198235                                النقل البري للبضائع 2020-04-10   \n",
       "198236  تقديم خدمة إدارة ومراقبة شبكات الاتصالات والمع... 2020-04-10   \n",
       "198237  البيع بالتجزئة لمواد البناء ، يشمل ( الأسمنت ،... 2020-05-10   \n",
       "198238  صناعة أوعية للغازات المسالة أو المضغوطة ، يشمل... 2020-06-10   \n",
       "198259  إصلاح المنتجات المعدنية عن طريق لحامها وهي في ... 2020-04-11   \n",
       "\n",
       "                                                  Names  \\\n",
       "291         مؤسسة نوال عبدالله بن مسفر ال زعمان للصيانة   \n",
       "292      شركة نماء الابتكار للاتصالات و تقنية المعلومات   \n",
       "293                    بوفية فطائر جرير للوجبات السريعة   \n",
       "295     مؤسسة ذيب بن مبارك بن عبدالله القحطاني الزراعية   \n",
       "296               مؤسسة ملحاء رجاء مناحي الشمري للتجارة   \n",
       "...                                                 ...   \n",
       "198235              مؤسسة شريفه حسن يحى العماد للنقليات   \n",
       "198236                       مؤسسة ضغطة واحدة للاتصالات   \n",
       "198237                    مؤسسة وادي جازان لمواد البناء   \n",
       "198238                         مصنع غاز الحازمي للصناعة   \n",
       "198259               ورشة سعيدة محمد عبده مشيني للصيانة   \n",
       "\n",
       "                                Citys   Satet  Types  \n",
       "291                            الرياض  الرياض   فرعي  \n",
       "292                            الرياض  الرياض  رئيسي  \n",
       "293                            الرياض  الرياض  رئيسي  \n",
       "295                            الرياض  الرياض   فرعي  \n",
       "296                            الرياض  الرياض   فرعي  \n",
       "...                               ...     ...    ...  \n",
       "198235  مدينة جازان الاقتصادية (جازان   جازان   فرعي  \n",
       "198236  مدينة جازان الاقتصادية (جازان   جازان  رئيسي  \n",
       "198237  مدينة جازان الاقتصادية (جازان   جازان  رئيسي  \n",
       "198238  مدينة جازان الاقتصادية (جازان   جازان   فرعي  \n",
       "198259  مدينة جازان الاقتصادية (جازان   جازان  رئيسي  \n",
       "\n",
       "[44995 rows x 6 columns]"
      ]
     },
     "execution_count": 204,
     "metadata": {},
     "output_type": "execute_result"
    }
   ],
   "source": [
    "dd"
   ]
  },
  {
   "cell_type": "markdown",
   "id": "e84636f0",
   "metadata": {},
   "source": [
    "# The Answer for Q3\n",
    "\n",
    "- i want know how many citys is more open it start-up"
   ]
  },
  {
   "cell_type": "code",
   "execution_count": 246,
   "id": "0593706e",
   "metadata": {},
   "outputs": [],
   "source": [
    "dd2=dd.copy()"
   ]
  },
  {
   "cell_type": "code",
   "execution_count": 247,
   "id": "6562955d",
   "metadata": {},
   "outputs": [
    {
     "data": {
      "text/html": [
       "<div>\n",
       "<style scoped>\n",
       "    .dataframe tbody tr th:only-of-type {\n",
       "        vertical-align: middle;\n",
       "    }\n",
       "\n",
       "    .dataframe tbody tr th {\n",
       "        vertical-align: top;\n",
       "    }\n",
       "\n",
       "    .dataframe thead th {\n",
       "        text-align: right;\n",
       "    }\n",
       "</style>\n",
       "<table border=\"1\" class=\"dataframe\">\n",
       "  <thead>\n",
       "    <tr style=\"text-align: right;\">\n",
       "      <th></th>\n",
       "      <th>Activity</th>\n",
       "      <th>Date</th>\n",
       "      <th>Names</th>\n",
       "      <th>Citys</th>\n",
       "      <th>Satet</th>\n",
       "      <th>Types</th>\n",
       "    </tr>\n",
       "  </thead>\n",
       "  <tbody>\n",
       "    <tr>\n",
       "      <th>292</th>\n",
       "      <td>تحليل النظم،تصميم وبرمجة البرمجيات الخاصة،صيان...</td>\n",
       "      <td>2020-04-01</td>\n",
       "      <td>شركة نماء الابتكار للاتصالات و تقنية المعلومات</td>\n",
       "      <td>الرياض</td>\n",
       "      <td>الرياض</td>\n",
       "      <td>رئيسي</td>\n",
       "    </tr>\n",
       "    <tr>\n",
       "      <th>309</th>\n",
       "      <td>المطاعم مع الخدمة،المقاهي التي تقدم فيها الشيشة</td>\n",
       "      <td>2020-04-01</td>\n",
       "      <td>شركة جلسة شفتي لتقديم الوجبات</td>\n",
       "      <td>الرياض</td>\n",
       "      <td>الرياض</td>\n",
       "      <td>رئيسي</td>\n",
       "    </tr>\n",
       "    <tr>\n",
       "      <th>339</th>\n",
       "      <td>العلاقات العامة والاتصال،مؤسسات ووكالات الدعاي...</td>\n",
       "      <td>2020-04-01</td>\n",
       "      <td>شركة خطة لتنظيم المعارض والمؤتمرات (شركة شخص و...</td>\n",
       "      <td>الرياض</td>\n",
       "      <td>الرياض</td>\n",
       "      <td>رئيسي</td>\n",
       "    </tr>\n",
       "    <tr>\n",
       "      <th>349</th>\n",
       "      <td>وكلاء البيع في مستحضرات التجميل</td>\n",
       "      <td>2020-05-01</td>\n",
       "      <td>شركة ثلاثة ستة تسعة لمستحضرات التجميل شركة شخص...</td>\n",
       "      <td>الرياض</td>\n",
       "      <td>الرياض</td>\n",
       "      <td>رئيسي</td>\n",
       "    </tr>\n",
       "    <tr>\n",
       "      <th>353</th>\n",
       "      <td>ترميمات المباني السكنية والغير سكنية</td>\n",
       "      <td>2020-05-01</td>\n",
       "      <td>شركة نسق المعالي للصناعة</td>\n",
       "      <td>الرياض</td>\n",
       "      <td>الرياض</td>\n",
       "      <td>فرعي</td>\n",
       "    </tr>\n",
       "    <tr>\n",
       "      <th>...</th>\n",
       "      <td>...</td>\n",
       "      <td>...</td>\n",
       "      <td>...</td>\n",
       "      <td>...</td>\n",
       "      <td>...</td>\n",
       "      <td>...</td>\n",
       "    </tr>\n",
       "    <tr>\n",
       "      <th>196868</th>\n",
       "      <td>صناعة اضافات وملدنات للخرسانة</td>\n",
       "      <td>2020-03-12</td>\n",
       "      <td>شركة منوه للمنتوجات الاسمنتية</td>\n",
       "      <td>نجران</td>\n",
       "      <td>نجران</td>\n",
       "      <td>رئيسي</td>\n",
       "    </tr>\n",
       "    <tr>\n",
       "      <th>197591</th>\n",
       "      <td>تركيب وتمديد شبكات الكمبيوتر والاتصالات،أنشطة ...</td>\n",
       "      <td>2020-05-09</td>\n",
       "      <td>شركة شبكة التوزيع المتقدمة المحدودة شركة شخص واحد</td>\n",
       "      <td>شرورة</td>\n",
       "      <td>نجران</td>\n",
       "      <td>فرعي</td>\n",
       "    </tr>\n",
       "    <tr>\n",
       "      <th>198048</th>\n",
       "      <td>المجمعات الطبية العامة</td>\n",
       "      <td>2020-05-10</td>\n",
       "      <td>شركة الوقاية الطبي</td>\n",
       "      <td>حبونا</td>\n",
       "      <td>نجران</td>\n",
       "      <td>فرعي</td>\n",
       "    </tr>\n",
       "    <tr>\n",
       "      <th>198176</th>\n",
       "      <td>البيع بالجملة عن طريق الانترنت،البيع بالتجزئة ...</td>\n",
       "      <td>2020-04-27</td>\n",
       "      <td>شركة حلول نون للتسويق الالكتروني شركة شخص واحد</td>\n",
       "      <td>مدينة جازان الاقتصادية (جازان</td>\n",
       "      <td>جازان</td>\n",
       "      <td>فرعي</td>\n",
       "    </tr>\n",
       "    <tr>\n",
       "      <th>198187</th>\n",
       "      <td>صناعة البلك الأسمنتي المفرغ والآجر،صناعة البلا...</td>\n",
       "      <td>2020-06-14</td>\n",
       "      <td>شركة اركون للخرسانة الجاهزة</td>\n",
       "      <td>مدينة جازان الاقتصادية (جازان</td>\n",
       "      <td>جازان</td>\n",
       "      <td>رئيسي</td>\n",
       "    </tr>\n",
       "  </tbody>\n",
       "</table>\n",
       "<p>3568 rows × 6 columns</p>\n",
       "</div>"
      ],
      "text/plain": [
       "                                                 Activity       Date  \\\n",
       "292     تحليل النظم،تصميم وبرمجة البرمجيات الخاصة،صيان... 2020-04-01   \n",
       "309       المطاعم مع الخدمة،المقاهي التي تقدم فيها الشيشة 2020-04-01   \n",
       "339     العلاقات العامة والاتصال،مؤسسات ووكالات الدعاي... 2020-04-01   \n",
       "349                       وكلاء البيع في مستحضرات التجميل 2020-05-01   \n",
       "353                  ترميمات المباني السكنية والغير سكنية 2020-05-01   \n",
       "...                                                   ...        ...   \n",
       "196868                      صناعة اضافات وملدنات للخرسانة 2020-03-12   \n",
       "197591  تركيب وتمديد شبكات الكمبيوتر والاتصالات،أنشطة ... 2020-05-09   \n",
       "198048                             المجمعات الطبية العامة 2020-05-10   \n",
       "198176  البيع بالجملة عن طريق الانترنت،البيع بالتجزئة ... 2020-04-27   \n",
       "198187  صناعة البلك الأسمنتي المفرغ والآجر،صناعة البلا... 2020-06-14   \n",
       "\n",
       "                                                    Names  \\\n",
       "292        شركة نماء الابتكار للاتصالات و تقنية المعلومات   \n",
       "309                         شركة جلسة شفتي لتقديم الوجبات   \n",
       "339     شركة خطة لتنظيم المعارض والمؤتمرات (شركة شخص و...   \n",
       "349     شركة ثلاثة ستة تسعة لمستحضرات التجميل شركة شخص...   \n",
       "353                              شركة نسق المعالي للصناعة   \n",
       "...                                                   ...   \n",
       "196868                      شركة منوه للمنتوجات الاسمنتية   \n",
       "197591  شركة شبكة التوزيع المتقدمة المحدودة شركة شخص واحد   \n",
       "198048                                 شركة الوقاية الطبي   \n",
       "198176     شركة حلول نون للتسويق الالكتروني شركة شخص واحد   \n",
       "198187                        شركة اركون للخرسانة الجاهزة   \n",
       "\n",
       "                                Citys   Satet  Types  \n",
       "292                            الرياض  الرياض  رئيسي  \n",
       "309                            الرياض  الرياض  رئيسي  \n",
       "339                            الرياض  الرياض  رئيسي  \n",
       "349                            الرياض  الرياض  رئيسي  \n",
       "353                            الرياض  الرياض   فرعي  \n",
       "...                               ...     ...    ...  \n",
       "196868                          نجران   نجران  رئيسي  \n",
       "197591                          شرورة   نجران   فرعي  \n",
       "198048                          حبونا   نجران   فرعي  \n",
       "198176  مدينة جازان الاقتصادية (جازان   جازان   فرعي  \n",
       "198187  مدينة جازان الاقتصادية (جازان   جازان  رئيسي  \n",
       "\n",
       "[3568 rows x 6 columns]"
      ]
     },
     "execution_count": 247,
     "metadata": {},
     "output_type": "execute_result"
    }
   ],
   "source": [
    "dd2[dd2['Names'].str.contains('شركة', na=False)]"
   ]
  },
  {
   "cell_type": "code",
   "execution_count": 254,
   "id": "61dd4bca",
   "metadata": {},
   "outputs": [
    {
     "data": {
      "text/plain": [
       "<Figure size 1296x1440 with 0 Axes>"
      ]
     },
     "execution_count": 254,
     "metadata": {},
     "output_type": "execute_result"
    },
    {
     "data": {
      "image/png": "[encoded data removed]",
      "text/plain": [
       "<Figure size 432x288 with 1 Axes>"
      ]
     },
     "metadata": {},
     "output_type": "display_data"
    },
    {
     "data": {
      "text/plain": [
       "<Figure size 1296x1440 with 0 Axes>"
      ]
     },
     "metadata": {},
     "output_type": "display_data"
    }
   ],
   "source": [
    "sns.set_style(\"white\")\n",
    "sns.barplot(x=(dd2['Citys'].value_counts().index)[:8],y=(dd2['Citys'].value_counts())[:8])\n",
    "plt.figure(figsize=(18,20))"
   ]
  },
  {
   "cell_type": "code",
   "execution_count": null,
   "id": "880d6194",
   "metadata": {},
   "outputs": [],
   "source": []
  }
 ],
 "metadata": {
  "kernelspec": {
   "display_name": "Python 3",
   "language": "python",
   "name": "python3"
  },
  "language_info": {
   "codemirror_mode": {
    "name": "ipython",
    "version": 3
   },
   "file_extension": ".py",
   "mimetype": "text/x-python",
   "name": "python",
   "nbconvert_exporter": "python",
   "pygments_lexer": "ipython3",
   "version": "3.8.8"
  }
 },
 "nbformat": 4,
 "nbformat_minor": 5
}
